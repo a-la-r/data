{
 "cells": [
  {
   "cell_type": "code",
   "execution_count": 1,
   "metadata": {},
   "outputs": [],
   "source": [
    "import pandas as pd"
   ]
  },
  {
   "cell_type": "markdown",
   "metadata": {},
   "source": [
    "## Письменный"
   ]
  },
  {
   "cell_type": "markdown",
   "metadata": {},
   "source": [
    "### как"
   ]
  },
  {
   "cell_type": "code",
   "execution_count": 2,
   "metadata": {},
   "outputs": [],
   "source": [
    "df_kak_wr = pd.read_excel('written_corpora_rand_kak.xlsx')"
   ]
  },
  {
   "cell_type": "code",
   "execution_count": 7,
   "metadata": {},
   "outputs": [
    {
     "data": {
      "text/plain": [
       "(684, 19)"
      ]
     },
     "execution_count": 7,
     "metadata": {},
     "output_type": "execute_result"
    }
   ],
   "source": [
    "df_kak_wr.shape"
   ]
  },
  {
   "cell_type": "code",
   "execution_count": 13,
   "metadata": {},
   "outputs": [],
   "source": [
    "df_kak_wr = df_kak_wr.drop(['Reversed left context', 'Reversed center', 'Punct', 'Title', 'Author', 'Birthday', 'Header', 'Ambiguity', 'Medium', 'Topic', 'Publication', 'Publ_year'], axis=1)"
   ]
  },
  {
   "cell_type": "code",
   "execution_count": 17,
   "metadata": {},
   "outputs": [
    {
     "data": {
      "text/html": [
       "<div>\n",
       "<style scoped>\n",
       "    .dataframe tbody tr th:only-of-type {\n",
       "        vertical-align: middle;\n",
       "    }\n",
       "\n",
       "    .dataframe tbody tr th {\n",
       "        vertical-align: top;\n",
       "    }\n",
       "\n",
       "    .dataframe thead th {\n",
       "        text-align: right;\n",
       "    }\n",
       "</style>\n",
       "<table border=\"1\" class=\"dataframe\">\n",
       "  <thead>\n",
       "    <tr style=\"text-align: right;\">\n",
       "      <th></th>\n",
       "      <th>Left context</th>\n",
       "      <th>Center</th>\n",
       "      <th>Right context</th>\n",
       "      <th>Created</th>\n",
       "      <th>Sphere</th>\n",
       "      <th>Type</th>\n",
       "      <th>Full context</th>\n",
       "    </tr>\n",
       "  </thead>\n",
       "  <tbody>\n",
       "    <tr>\n",
       "      <td>0</td>\n",
       "      <td>нам казалось всего занятнее, так</td>\n",
       "      <td>как</td>\n",
       "      <td>было известно, что дьякон езди г</td>\n",
       "      <td>1910-1912</td>\n",
       "      <td>художественная</td>\n",
       "      <td>роман</td>\n",
       "      <td>Его присутствие нам казалось всего занятнее, т...</td>\n",
       "    </tr>\n",
       "    <tr>\n",
       "      <td>1</td>\n",
       "      <td>Один даже,</td>\n",
       "      <td>как</td>\n",
       "      <td>говорили, пытался выступить в роли управляющег...</td>\n",
       "      <td>1910-1912</td>\n",
       "      <td>художественная</td>\n",
       "      <td>роман</td>\n",
       "      <td>Один даже, как говорили, пытался выступить в р...</td>\n",
       "    </tr>\n",
       "    <tr>\n",
       "      <td>2</td>\n",
       "      <td>с « Марейкой- сукой» во главе</td>\n",
       "      <td>как</td>\n",
       "      <td>будто специально старалась показать рабочему, ...</td>\n",
       "      <td>1910-1912</td>\n",
       "      <td>художественная</td>\n",
       "      <td>роман</td>\n",
       "      <td>Раньше труд рабочих Турчаниновы разматывали по...</td>\n",
       "    </tr>\n",
       "  </tbody>\n",
       "</table>\n",
       "</div>"
      ],
      "text/plain": [
       "                       Left context Center  \\\n",
       "0  нам казалось всего занятнее, так   как    \n",
       "1                        Один даже,   как    \n",
       "2     с « Марейкой- сукой» во главе   как    \n",
       "\n",
       "                                       Right context    Created  \\\n",
       "0                  было известно, что дьякон езди г   1910-1912   \n",
       "1  говорили, пытался выступить в роли управляющег...  1910-1912   \n",
       "2  будто специально старалась показать рабочему, ...  1910-1912   \n",
       "\n",
       "           Sphere   Type                                       Full context  \n",
       "0  художественная  роман  Его присутствие нам казалось всего занятнее, т...  \n",
       "1  художественная  роман  Один даже, как говорили, пытался выступить в р...  \n",
       "2  художественная  роман  Раньше труд рабочих Турчаниновы разматывали по...  "
      ]
     },
     "execution_count": 17,
     "metadata": {},
     "output_type": "execute_result"
    }
   ],
   "source": [
    "df_kak_wr.head(3)"
   ]
  },
  {
   "cell_type": "code",
   "execution_count": 64,
   "metadata": {},
   "outputs": [
    {
     "data": {
      "text/plain": [
       "(508, 7)"
      ]
     },
     "execution_count": 64,
     "metadata": {},
     "output_type": "execute_result"
    }
   ],
   "source": [
    "df_kak_wr.shape"
   ]
  },
  {
   "cell_type": "code",
   "execution_count": 66,
   "metadata": {},
   "outputs": [],
   "source": [
    "df_kak_wr.to_csv(r'C:\\Users\\User\\Desktop\\r project\\datasets\\df_kak_wr.csv', encoding='utf-8', index = False)"
   ]
  },
  {
   "cell_type": "markdown",
   "metadata": {},
   "source": [
    "### подобно"
   ]
  },
  {
   "cell_type": "code",
   "execution_count": 18,
   "metadata": {},
   "outputs": [],
   "source": [
    "df_podobno_wr = pd.read_excel('written_corpora_rand_podobno.xlsx')"
   ]
  },
  {
   "cell_type": "code",
   "execution_count": 20,
   "metadata": {},
   "outputs": [],
   "source": [
    "df_podobno_wr = df_podobno_wr.drop(['Reversed left context', 'Reversed center', 'Punct', 'Title', 'Author', 'Birthday', 'Header', 'Ambiguity', 'Medium', 'Topic', 'Publication', 'Publ_year'], axis=1)"
   ]
  },
  {
   "cell_type": "code",
   "execution_count": 21,
   "metadata": {},
   "outputs": [
    {
     "data": {
      "text/html": [
       "<div>\n",
       "<style scoped>\n",
       "    .dataframe tbody tr th:only-of-type {\n",
       "        vertical-align: middle;\n",
       "    }\n",
       "\n",
       "    .dataframe tbody tr th {\n",
       "        vertical-align: top;\n",
       "    }\n",
       "\n",
       "    .dataframe thead th {\n",
       "        text-align: right;\n",
       "    }\n",
       "</style>\n",
       "<table border=\"1\" class=\"dataframe\">\n",
       "  <thead>\n",
       "    <tr style=\"text-align: right;\">\n",
       "      <th></th>\n",
       "      <th>Left context</th>\n",
       "      <th>Center</th>\n",
       "      <th>Right context</th>\n",
       "      <th>Created</th>\n",
       "      <th>Sphere</th>\n",
       "      <th>Type</th>\n",
       "      <th>Full context</th>\n",
       "    </tr>\n",
       "  </thead>\n",
       "  <tbody>\n",
       "    <tr>\n",
       "      <td>0</td>\n",
       "      <td>ее тела вздымались и светились</td>\n",
       "      <td>подобно</td>\n",
       "      <td>косточковым, созревшим на тропической ветке, д...</td>\n",
       "      <td>2003</td>\n",
       "      <td>нехудожественная, публицистика</td>\n",
       "      <td>статья</td>\n",
       "      <td>Все открытые взору фрагменты ее тела вздымалис...</td>\n",
       "    </tr>\n",
       "    <tr>\n",
       "      <td>1</td>\n",
       "      <td>NaN</td>\n",
       "      <td>Подобно</td>\n",
       "      <td>этому и развитие самого человечества, которое</td>\n",
       "      <td>2003</td>\n",
       "      <td>нехудожественная, публицистика</td>\n",
       "      <td>статья</td>\n",
       "      <td>Подобно этому и развитие самого человечества, ...</td>\n",
       "    </tr>\n",
       "    <tr>\n",
       "      <td>2</td>\n",
       "      <td>которые несут культурную информацию и,</td>\n",
       "      <td>подобно</td>\n",
       "      <td>генам, передаются по наследству.</td>\n",
       "      <td>2003</td>\n",
       "      <td>нехудожественная, публицистика</td>\n",
       "      <td>статья</td>\n",
       "      <td>Им, а также рядом других ученых, была предложе...</td>\n",
       "    </tr>\n",
       "  </tbody>\n",
       "</table>\n",
       "</div>"
      ],
      "text/plain": [
       "                             Left context     Center  \\\n",
       "0          ее тела вздымались и светились   подобно    \n",
       "1                                     NaN   Подобно    \n",
       "2  которые несут культурную информацию и,   подобно    \n",
       "\n",
       "                                       Right context Created  \\\n",
       "0  косточковым, созревшим на тропической ветке, д...    2003   \n",
       "1     этому и развитие самого человечества, которое     2003   \n",
       "2                 генам, передаются по наследству.      2003   \n",
       "\n",
       "                           Sphere    Type  \\\n",
       "0  нехудожественная, публицистика  статья   \n",
       "1  нехудожественная, публицистика  статья   \n",
       "2  нехудожественная, публицистика  статья   \n",
       "\n",
       "                                        Full context  \n",
       "0  Все открытые взору фрагменты ее тела вздымалис...  \n",
       "1  Подобно этому и развитие самого человечества, ...  \n",
       "2  Им, а также рядом других ученых, была предложе...  "
      ]
     },
     "execution_count": 21,
     "metadata": {},
     "output_type": "execute_result"
    }
   ],
   "source": [
    "df_podobno_wr.head(3)"
   ]
  },
  {
   "cell_type": "code",
   "execution_count": 63,
   "metadata": {},
   "outputs": [
    {
     "data": {
      "text/plain": [
       "(513, 7)"
      ]
     },
     "execution_count": 63,
     "metadata": {},
     "output_type": "execute_result"
    }
   ],
   "source": [
    "df_podobno_wr.shape"
   ]
  },
  {
   "cell_type": "code",
   "execution_count": 67,
   "metadata": {},
   "outputs": [],
   "source": [
    "df_podobno_wr.to_csv(r'C:\\Users\\User\\Desktop\\r project\\datasets\\df_podobno_wr.csv', encoding='utf-8', index = False)"
   ]
  },
  {
   "cell_type": "markdown",
   "metadata": {},
   "source": [
    "### а-ля"
   ]
  },
  {
   "cell_type": "code",
   "execution_count": 22,
   "metadata": {},
   "outputs": [],
   "source": [
    "df_ala_wr = pd.read_excel('written_corpora_rand_a-la.xlsx')"
   ]
  },
  {
   "cell_type": "code",
   "execution_count": 23,
   "metadata": {},
   "outputs": [],
   "source": [
    "df_ala_wr = df_ala_wr.drop(['Reversed left context', 'Reversed center', 'Punct', 'Title', 'Author', 'Birthday', 'Header', 'Ambiguity', 'Medium', 'Topic', 'Publication', 'Publ_year'], axis=1)"
   ]
  },
  {
   "cell_type": "code",
   "execution_count": 24,
   "metadata": {},
   "outputs": [
    {
     "data": {
      "text/html": [
       "<div>\n",
       "<style scoped>\n",
       "    .dataframe tbody tr th:only-of-type {\n",
       "        vertical-align: middle;\n",
       "    }\n",
       "\n",
       "    .dataframe tbody tr th {\n",
       "        vertical-align: top;\n",
       "    }\n",
       "\n",
       "    .dataframe thead th {\n",
       "        text-align: right;\n",
       "    }\n",
       "</style>\n",
       "<table border=\"1\" class=\"dataframe\">\n",
       "  <thead>\n",
       "    <tr style=\"text-align: right;\">\n",
       "      <th></th>\n",
       "      <th>Left context</th>\n",
       "      <th>Center</th>\n",
       "      <th>Right context</th>\n",
       "      <th>Created</th>\n",
       "      <th>Sphere</th>\n",
       "      <th>Type</th>\n",
       "      <th>Full context</th>\n",
       "    </tr>\n",
       "  </thead>\n",
       "  <tbody>\n",
       "    <tr>\n",
       "      <td>0</td>\n",
       "      <td>дополняющее тёмные усы и эспаньолку</td>\n",
       "      <td>а-ля</td>\n",
       "      <td>Анри катр\", ― типичного монпарнасского интелле...</td>\n",
       "      <td>2010</td>\n",
       "      <td>художественная</td>\n",
       "      <td>повесть</td>\n",
       "      <td>мягким козырьком вроде той, которую так недолг...</td>\n",
       "    </tr>\n",
       "    <tr>\n",
       "      <td>1</td>\n",
       "      <td>неё были хорошо причёсанные волосы</td>\n",
       "      <td>а-ля</td>\n",
       "      <td>директуар, а глаза были отнюдь не</td>\n",
       "      <td>2010</td>\n",
       "      <td>художественная</td>\n",
       "      <td>повесть</td>\n",
       "      <td>Судя по портретам, у неё были хорошо причёсанн...</td>\n",
       "    </tr>\n",
       "    <tr>\n",
       "      <td>2</td>\n",
       "      <td>с шапкой кудрявых волос, причёсанных</td>\n",
       "      <td>а-ля</td>\n",
       "      <td>Титус, по крайней мере в юности.</td>\n",
       "      <td>2010</td>\n",
       "      <td>художественная</td>\n",
       "      <td>повесть</td>\n",
       "      <td>При маленьком росте ключик был коренаст, крепо...</td>\n",
       "    </tr>\n",
       "  </tbody>\n",
       "</table>\n",
       "</div>"
      ],
      "text/plain": [
       "                           Left context  Center  \\\n",
       "0   дополняющее тёмные усы и эспаньолку   а-ля    \n",
       "1    неё были хорошо причёсанные волосы   а-ля    \n",
       "2  с шапкой кудрявых волос, причёсанных   а-ля    \n",
       "\n",
       "                                       Right context Created          Sphere  \\\n",
       "0  Анри катр\", ― типичного монпарнасского интелле...    2010  художественная   \n",
       "1                 директуар, а глаза были отнюдь не     2010  художественная   \n",
       "2                   Титус, по крайней мере в юности.    2010  художественная   \n",
       "\n",
       "      Type                                       Full context  \n",
       "0  повесть  мягким козырьком вроде той, которую так недолг...  \n",
       "1  повесть  Судя по портретам, у неё были хорошо причёсанн...  \n",
       "2  повесть  При маленьком росте ключик был коренаст, крепо...  "
      ]
     },
     "execution_count": 24,
     "metadata": {},
     "output_type": "execute_result"
    }
   ],
   "source": [
    "df_ala_wr.head(3)"
   ]
  },
  {
   "cell_type": "code",
   "execution_count": 62,
   "metadata": {},
   "outputs": [
    {
     "data": {
      "text/plain": [
       "(379, 7)"
      ]
     },
     "execution_count": 62,
     "metadata": {},
     "output_type": "execute_result"
    }
   ],
   "source": [
    "df_ala_wr.shape"
   ]
  },
  {
   "cell_type": "code",
   "execution_count": 68,
   "metadata": {},
   "outputs": [],
   "source": [
    "df_ala_wr.to_csv(r'C:\\Users\\User\\Desktop\\r project\\datasets\\df_ala_wr.csv', encoding='utf-8', index = False)"
   ]
  },
  {
   "cell_type": "markdown",
   "metadata": {},
   "source": [
    "### аки"
   ]
  },
  {
   "cell_type": "code",
   "execution_count": 25,
   "metadata": {},
   "outputs": [],
   "source": [
    "df_aki_wr = pd.read_excel('written_corpora_rand_aki.xlsx')"
   ]
  },
  {
   "cell_type": "code",
   "execution_count": 26,
   "metadata": {},
   "outputs": [],
   "source": [
    "df_aki_wr = df_aki_wr.drop(['Reversed left context', 'Reversed center', 'Punct', 'Title', 'Author', 'Birthday', 'Header', 'Ambiguity', 'Medium', 'Topic', 'Publication', 'Publ_year'], axis=1)"
   ]
  },
  {
   "cell_type": "code",
   "execution_count": 27,
   "metadata": {},
   "outputs": [
    {
     "data": {
      "text/html": [
       "<div>\n",
       "<style scoped>\n",
       "    .dataframe tbody tr th:only-of-type {\n",
       "        vertical-align: middle;\n",
       "    }\n",
       "\n",
       "    .dataframe tbody tr th {\n",
       "        vertical-align: top;\n",
       "    }\n",
       "\n",
       "    .dataframe thead th {\n",
       "        text-align: right;\n",
       "    }\n",
       "</style>\n",
       "<table border=\"1\" class=\"dataframe\">\n",
       "  <thead>\n",
       "    <tr style=\"text-align: right;\">\n",
       "      <th></th>\n",
       "      <th>Left context</th>\n",
       "      <th>Center</th>\n",
       "      <th>Right context</th>\n",
       "      <th>Created</th>\n",
       "      <th>Sphere</th>\n",
       "      <th>Type</th>\n",
       "      <th>Full context</th>\n",
       "    </tr>\n",
       "  </thead>\n",
       "  <tbody>\n",
       "    <tr>\n",
       "      <td>0</td>\n",
       "      <td>Аще же приставить себе</td>\n",
       "      <td>аки</td>\n",
       "      <td>крылья деревянны, противу естества творит.</td>\n",
       "      <td>1996</td>\n",
       "      <td>художественная</td>\n",
       "      <td>роман</td>\n",
       "      <td>Аще же приставить себе аки крылья деревянны, п...</td>\n",
       "    </tr>\n",
       "    <tr>\n",
       "      <td>1</td>\n",
       "      <td>А выдумку,</td>\n",
       "      <td>аки</td>\n",
       "      <td>дьявольскою помощью снаряженную, после божеств...</td>\n",
       "      <td>1996</td>\n",
       "      <td>художественная</td>\n",
       "      <td>роман</td>\n",
       "      <td>А выдумку, аки дьявольскою помощью снаряженную...</td>\n",
       "    </tr>\n",
       "    <tr>\n",
       "      <td>2</td>\n",
       "      <td>NaN</td>\n",
       "      <td>аки</td>\n",
       "      <td>Григорий Богослов” ( до груди, « густа и</td>\n",
       "      <td>2001</td>\n",
       "      <td>художественная</td>\n",
       "      <td>роман</td>\n",
       "      <td>аки Григорий Богослов” ( до груди, « густа и ш...</td>\n",
       "    </tr>\n",
       "  </tbody>\n",
       "</table>\n",
       "</div>"
      ],
      "text/plain": [
       "             Left context Center  \\\n",
       "0  Аще же приставить себе   аки    \n",
       "1              А выдумку,   аки    \n",
       "2                     NaN   аки    \n",
       "\n",
       "                                       Right context Created          Sphere  \\\n",
       "0         крылья деревянны, противу естества творит.    1996  художественная   \n",
       "1  дьявольскою помощью снаряженную, после божеств...    1996  художественная   \n",
       "2          Григорий Богослов” ( до груди, « густа и     2001  художественная   \n",
       "\n",
       "    Type                                       Full context  \n",
       "0  роман  Аще же приставить себе аки крылья деревянны, п...  \n",
       "1  роман  А выдумку, аки дьявольскою помощью снаряженную...  \n",
       "2  роман  аки Григорий Богослов” ( до груди, « густа и ш...  "
      ]
     },
     "execution_count": 27,
     "metadata": {},
     "output_type": "execute_result"
    }
   ],
   "source": [
    "df_aki_wr.head(3)"
   ]
  },
  {
   "cell_type": "code",
   "execution_count": 61,
   "metadata": {},
   "outputs": [
    {
     "data": {
      "text/plain": [
       "(511, 7)"
      ]
     },
     "execution_count": 61,
     "metadata": {},
     "output_type": "execute_result"
    }
   ],
   "source": [
    "df_aki_wr.shape"
   ]
  },
  {
   "cell_type": "code",
   "execution_count": 69,
   "metadata": {},
   "outputs": [],
   "source": [
    "df_aki_wr.to_csv(r'C:\\Users\\User\\Desktop\\r project\\datasets\\df_aki_wr.csv', encoding='utf-8', index = False)"
   ]
  },
  {
   "cell_type": "markdown",
   "metadata": {},
   "source": [
    "### словно"
   ]
  },
  {
   "cell_type": "code",
   "execution_count": 28,
   "metadata": {},
   "outputs": [],
   "source": [
    "df_slovno_wr = pd.read_excel('written_corpora_rand_slovno.xlsx')"
   ]
  },
  {
   "cell_type": "code",
   "execution_count": 29,
   "metadata": {},
   "outputs": [],
   "source": [
    "df_slovno_wr = df_slovno_wr.drop(['Reversed left context', 'Reversed center', 'Punct', 'Title', 'Author', 'Birthday', 'Header', 'Ambiguity', 'Medium', 'Topic', 'Publication', 'Publ_year'], axis=1)"
   ]
  },
  {
   "cell_type": "code",
   "execution_count": 30,
   "metadata": {},
   "outputs": [
    {
     "data": {
      "text/html": [
       "<div>\n",
       "<style scoped>\n",
       "    .dataframe tbody tr th:only-of-type {\n",
       "        vertical-align: middle;\n",
       "    }\n",
       "\n",
       "    .dataframe tbody tr th {\n",
       "        vertical-align: top;\n",
       "    }\n",
       "\n",
       "    .dataframe thead th {\n",
       "        text-align: right;\n",
       "    }\n",
       "</style>\n",
       "<table border=\"1\" class=\"dataframe\">\n",
       "  <thead>\n",
       "    <tr style=\"text-align: right;\">\n",
       "      <th></th>\n",
       "      <th>Left context</th>\n",
       "      <th>Center</th>\n",
       "      <th>Right context</th>\n",
       "      <th>Created</th>\n",
       "      <th>Sphere</th>\n",
       "      <th>Type</th>\n",
       "      <th>Full context</th>\n",
       "    </tr>\n",
       "  </thead>\n",
       "  <tbody>\n",
       "    <tr>\n",
       "      <td>0</td>\n",
       "      <td>Длинная, зигзагообразная,</td>\n",
       "      <td>словно</td>\n",
       "      <td>молния.</td>\n",
       "      <td>2003</td>\n",
       "      <td>нехудожественная, публицистика</td>\n",
       "      <td>статья</td>\n",
       "      <td>Длинная, зигзагообразная, словно молния.   [За...</td>\n",
       "    </tr>\n",
       "    <tr>\n",
       "      <td>1</td>\n",
       "      <td>Они у Бориски и вправду</td>\n",
       "      <td>словно</td>\n",
       "      <td>блестящие угли.</td>\n",
       "      <td>2003</td>\n",
       "      <td>нехудожественная, публицистика</td>\n",
       "      <td>статья</td>\n",
       "      <td>Они у Бориски и вправду словно блестящие угли....</td>\n",
       "    </tr>\n",
       "    <tr>\n",
       "      <td>2</td>\n",
       "      <td>него с забора и улыбался,</td>\n",
       "      <td>словно</td>\n",
       "      <td>звал поиграть.</td>\n",
       "      <td>2003</td>\n",
       "      <td>нехудожественная, публицистика</td>\n",
       "      <td>статья</td>\n",
       "      <td>Щенок смотрел на него с забора и улыбался, сло...</td>\n",
       "    </tr>\n",
       "  </tbody>\n",
       "</table>\n",
       "</div>"
      ],
      "text/plain": [
       "                Left context    Center     Right context Created  \\\n",
       "0  Длинная, зигзагообразная,   словно          молния.      2003   \n",
       "1    Они у Бориски и вправду   словно    блестящие угли.    2003   \n",
       "2  него с забора и улыбался,   словно   звал поиграть.      2003   \n",
       "\n",
       "                           Sphere    Type  \\\n",
       "0  нехудожественная, публицистика  статья   \n",
       "1  нехудожественная, публицистика  статья   \n",
       "2  нехудожественная, публицистика  статья   \n",
       "\n",
       "                                        Full context  \n",
       "0  Длинная, зигзагообразная, словно молния.   [За...  \n",
       "1  Они у Бориски и вправду словно блестящие угли....  \n",
       "2  Щенок смотрел на него с забора и улыбался, сло...  "
      ]
     },
     "execution_count": 30,
     "metadata": {},
     "output_type": "execute_result"
    }
   ],
   "source": [
    "df_slovno_wr.head(3)"
   ]
  },
  {
   "cell_type": "code",
   "execution_count": 60,
   "metadata": {},
   "outputs": [
    {
     "data": {
      "text/plain": [
       "(1014, 7)"
      ]
     },
     "execution_count": 60,
     "metadata": {},
     "output_type": "execute_result"
    }
   ],
   "source": [
    "df_slovno_wr.shape"
   ]
  },
  {
   "cell_type": "code",
   "execution_count": 70,
   "metadata": {},
   "outputs": [],
   "source": [
    "df_slovno_wr.to_csv(r'C:\\Users\\User\\Desktop\\r project\\datasets\\df_slovno_wr.csv', encoding='utf-8', index = False)"
   ]
  },
  {
   "cell_type": "markdown",
   "metadata": {},
   "source": [
    "### будто"
   ]
  },
  {
   "cell_type": "code",
   "execution_count": 31,
   "metadata": {},
   "outputs": [],
   "source": [
    "df_budto_wr = pd.read_excel('written_corpora_rand_budto.xlsx')"
   ]
  },
  {
   "cell_type": "code",
   "execution_count": 32,
   "metadata": {},
   "outputs": [],
   "source": [
    "df_budto_wr = df_budto_wr.drop(['Reversed left context', 'Reversed center', 'Punct', 'Title', 'Author', 'Birthday', 'Header', 'Ambiguity', 'Medium', 'Topic', 'Publication', 'Publ_year'], axis=1)"
   ]
  },
  {
   "cell_type": "code",
   "execution_count": 33,
   "metadata": {},
   "outputs": [
    {
     "data": {
      "text/html": [
       "<div>\n",
       "<style scoped>\n",
       "    .dataframe tbody tr th:only-of-type {\n",
       "        vertical-align: middle;\n",
       "    }\n",
       "\n",
       "    .dataframe tbody tr th {\n",
       "        vertical-align: top;\n",
       "    }\n",
       "\n",
       "    .dataframe thead th {\n",
       "        text-align: right;\n",
       "    }\n",
       "</style>\n",
       "<table border=\"1\" class=\"dataframe\">\n",
       "  <thead>\n",
       "    <tr style=\"text-align: right;\">\n",
       "      <th></th>\n",
       "      <th>Left context</th>\n",
       "      <th>Center</th>\n",
       "      <th>Right context</th>\n",
       "      <th>Created</th>\n",
       "      <th>Sphere</th>\n",
       "      <th>Type</th>\n",
       "      <th>Full context</th>\n",
       "    </tr>\n",
       "  </thead>\n",
       "  <tbody>\n",
       "    <tr>\n",
       "      <td>0</td>\n",
       "      <td>не отрываясь друг от друга,</td>\n",
       "      <td>будто</td>\n",
       "      <td>связанные, тычутся в углы, лазят под</td>\n",
       "      <td>1946</td>\n",
       "      <td>художественная</td>\n",
       "      <td>повесть</td>\n",
       "      <td>Он смотрел, как они, не отрываясь друг от друг...</td>\n",
       "    </tr>\n",
       "    <tr>\n",
       "      <td>1</td>\n",
       "      <td>курил, делая затяжки так часто,</td>\n",
       "      <td>будто</td>\n",
       "      <td>пил воду.</td>\n",
       "      <td>1946</td>\n",
       "      <td>художественная</td>\n",
       "      <td>повесть</td>\n",
       "      <td>Он курил, делая затяжки так часто, будто пил в...</td>\n",
       "    </tr>\n",
       "    <tr>\n",
       "      <td>2</td>\n",
       "      <td>А потом как</td>\n",
       "      <td>будто</td>\n",
       "      <td>все ладно пошло.</td>\n",
       "      <td>1946</td>\n",
       "      <td>художественная</td>\n",
       "      <td>повесть</td>\n",
       "      <td>А потом как будто все ладно пошло.   [Виктор Н...</td>\n",
       "    </tr>\n",
       "  </tbody>\n",
       "</table>\n",
       "</div>"
      ],
      "text/plain": [
       "                      Left context   Center  \\\n",
       "0      не отрываясь друг от друга,   будто    \n",
       "1  курил, делая затяжки так часто,   будто    \n",
       "2                      А потом как   будто    \n",
       "\n",
       "                           Right context Created          Sphere     Type  \\\n",
       "0  связанные, тычутся в углы, лазят под     1946  художественная  повесть   \n",
       "1                              пил воду.    1946  художественная  повесть   \n",
       "2                     все ладно пошло.      1946  художественная  повесть   \n",
       "\n",
       "                                        Full context  \n",
       "0  Он смотрел, как они, не отрываясь друг от друг...  \n",
       "1  Он курил, делая затяжки так часто, будто пил в...  \n",
       "2  А потом как будто все ладно пошло.   [Виктор Н...  "
      ]
     },
     "execution_count": 33,
     "metadata": {},
     "output_type": "execute_result"
    }
   ],
   "source": [
    "df_budto_wr.head(3)"
   ]
  },
  {
   "cell_type": "code",
   "execution_count": 59,
   "metadata": {},
   "outputs": [
    {
     "data": {
      "text/plain": [
       "(1092, 7)"
      ]
     },
     "execution_count": 59,
     "metadata": {},
     "output_type": "execute_result"
    }
   ],
   "source": [
    "df_budto_wr.shape"
   ]
  },
  {
   "cell_type": "code",
   "execution_count": 71,
   "metadata": {},
   "outputs": [],
   "source": [
    "df_budto_wr.to_csv(r'C:\\Users\\User\\Desktop\\r project\\datasets\\df_budto_wr.csv', encoding='utf-8', index = False)"
   ]
  },
  {
   "cell_type": "markdown",
   "metadata": {},
   "source": [
    "## Устный"
   ]
  },
  {
   "cell_type": "markdown",
   "metadata": {},
   "source": [
    "### как"
   ]
  },
  {
   "cell_type": "code",
   "execution_count": 34,
   "metadata": {},
   "outputs": [],
   "source": [
    "df_kak_sp = pd.read_excel('spoken_corpora_rand_kak.xlsx')"
   ]
  },
  {
   "cell_type": "code",
   "execution_count": 35,
   "metadata": {},
   "outputs": [],
   "source": [
    "df_kak_sp = df_kak_sp.drop(['Reversed left context', 'Reversed center', 'Punct', 'Title', 'Author', 'Birthday', 'Header', 'Ambiguity', 'Medium', 'Topic', 'Publication', 'Publ_year'], axis=1)"
   ]
  },
  {
   "cell_type": "code",
   "execution_count": 36,
   "metadata": {},
   "outputs": [
    {
     "data": {
      "text/html": [
       "<div>\n",
       "<style scoped>\n",
       "    .dataframe tbody tr th:only-of-type {\n",
       "        vertical-align: middle;\n",
       "    }\n",
       "\n",
       "    .dataframe tbody tr th {\n",
       "        vertical-align: top;\n",
       "    }\n",
       "\n",
       "    .dataframe thead th {\n",
       "        text-align: right;\n",
       "    }\n",
       "</style>\n",
       "<table border=\"1\" class=\"dataframe\">\n",
       "  <thead>\n",
       "    <tr style=\"text-align: right;\">\n",
       "      <th></th>\n",
       "      <th>Left context</th>\n",
       "      <th>Center</th>\n",
       "      <th>Right context</th>\n",
       "      <th>Created</th>\n",
       "      <th>Sphere</th>\n",
       "      <th>Type</th>\n",
       "      <th>Full context</th>\n",
       "    </tr>\n",
       "  </thead>\n",
       "  <tbody>\n",
       "    <tr>\n",
       "      <td>0</td>\n",
       "      <td>Ты́</td>\n",
       "      <td>ка́к</td>\n",
       "      <td>пое́дешь- то?</td>\n",
       "      <td>1971</td>\n",
       "      <td>кино, нехудожественная</td>\n",
       "      <td>кинокомедия, экранизация</td>\n",
       "      <td>Ты́ ка́к пое́дешь- то?  [Виктор Титов, Евгений...</td>\n",
       "    </tr>\n",
       "    <tr>\n",
       "      <td>1</td>\n",
       "      <td>А</td>\n",
       "      <td>ка́к</td>\n",
       "      <td>NaN</td>\n",
       "      <td>1971</td>\n",
       "      <td>кино, нехудожественная</td>\n",
       "      <td>кинокомедия, экранизация</td>\n",
       "      <td>А ка́к?  [Виктор Титов, Евгений Петров, Илья И...</td>\n",
       "    </tr>\n",
       "    <tr>\n",
       "      <td>2</td>\n",
       "      <td>э́то… зна́ешь / чё я смотре́л?</td>\n",
       "      <td>Ка́к</td>\n",
       "      <td>это?</td>\n",
       "      <td>1971</td>\n",
       "      <td>кино, нехудожественная</td>\n",
       "      <td>кинокомедия, экранизация</td>\n",
       "      <td>э́то… зна́ешь / чё я смотре́л? Ка́к это?    [В...</td>\n",
       "    </tr>\n",
       "  </tbody>\n",
       "</table>\n",
       "</div>"
      ],
      "text/plain": [
       "                     Left context  Center   Right context  Created  \\\n",
       "0                             Ты́   ка́к   пое́дешь- то?      1971   \n",
       "1                               А   ка́к              NaN     1971   \n",
       "2  э́то… зна́ешь / чё я смотре́л?   Ка́к          это?        1971   \n",
       "\n",
       "                   Sphere                      Type  \\\n",
       "0  кино, нехудожественная  кинокомедия, экранизация   \n",
       "1  кино, нехудожественная  кинокомедия, экранизация   \n",
       "2  кино, нехудожественная  кинокомедия, экранизация   \n",
       "\n",
       "                                        Full context  \n",
       "0  Ты́ ка́к пое́дешь- то?  [Виктор Титов, Евгений...  \n",
       "1  А ка́к?  [Виктор Титов, Евгений Петров, Илья И...  \n",
       "2  э́то… зна́ешь / чё я смотре́л? Ка́к это?    [В...  "
      ]
     },
     "execution_count": 36,
     "metadata": {},
     "output_type": "execute_result"
    }
   ],
   "source": [
    "df_kak_sp.head(3)"
   ]
  },
  {
   "cell_type": "code",
   "execution_count": 58,
   "metadata": {},
   "outputs": [
    {
     "data": {
      "text/plain": [
       "(507, 7)"
      ]
     },
     "execution_count": 58,
     "metadata": {},
     "output_type": "execute_result"
    }
   ],
   "source": [
    "df_kak_sp.shape"
   ]
  },
  {
   "cell_type": "code",
   "execution_count": 72,
   "metadata": {},
   "outputs": [],
   "source": [
    "df_kak_sp.to_csv(r'C:\\Users\\User\\Desktop\\r project\\datasets\\df_kak_sp.csv', encoding='utf-8', index = False)"
   ]
  },
  {
   "cell_type": "markdown",
   "metadata": {},
   "source": [
    "### подобно"
   ]
  },
  {
   "cell_type": "code",
   "execution_count": 37,
   "metadata": {},
   "outputs": [],
   "source": [
    "df_podobno_sp = pd.read_excel('spoken_corpora_rand_podobno.xlsx')"
   ]
  },
  {
   "cell_type": "code",
   "execution_count": 39,
   "metadata": {},
   "outputs": [],
   "source": [
    "df_podobno_sp = df_podobno_sp.drop(['Reversed left context', 'Reversed center', 'Punct', 'Title', 'Author', 'Birthday', 'Header', 'Ambiguity', 'Medium', 'Topic', 'Publication', 'Publ_year'], axis=1)"
   ]
  },
  {
   "cell_type": "code",
   "execution_count": 40,
   "metadata": {},
   "outputs": [
    {
     "data": {
      "text/html": [
       "<div>\n",
       "<style scoped>\n",
       "    .dataframe tbody tr th:only-of-type {\n",
       "        vertical-align: middle;\n",
       "    }\n",
       "\n",
       "    .dataframe tbody tr th {\n",
       "        vertical-align: top;\n",
       "    }\n",
       "\n",
       "    .dataframe thead th {\n",
       "        text-align: right;\n",
       "    }\n",
       "</style>\n",
       "<table border=\"1\" class=\"dataframe\">\n",
       "  <thead>\n",
       "    <tr style=\"text-align: right;\">\n",
       "      <th></th>\n",
       "      <th>Left context</th>\n",
       "      <th>Center</th>\n",
       "      <th>Right context</th>\n",
       "      <th>Created</th>\n",
       "      <th>Sphere</th>\n",
       "      <th>Type</th>\n",
       "      <th>Full context</th>\n",
       "    </tr>\n",
       "  </thead>\n",
       "  <tbody>\n",
       "    <tr>\n",
       "      <td>0</td>\n",
       "      <td>конь\" / iva / \" как / как бы /</td>\n",
       "      <td>подобно</td>\n",
       "      <td>NaN</td>\n",
       "      <td>2003</td>\n",
       "      <td>кино, нехудожественная</td>\n",
       "      <td>кинодрама, экранизация</td>\n",
       "      <td>aSva / это \" конь\" / iva / \" как / как бы / по...</td>\n",
       "    </tr>\n",
       "    <tr>\n",
       "      <td>1</td>\n",
       "      <td>прошу́ / прекрати́те / э́то же… сме́рти</td>\n",
       "      <td>подо́бно</td>\n",
       "      <td>NaN</td>\n",
       "      <td>1980</td>\n",
       "      <td>кино, нехудожественная</td>\n",
       "      <td>кинодрама, кинокомедия</td>\n",
       "      <td>Я́ ва́с прошу́ / прекрати́те / э́то же… сме́рт...</td>\n",
       "    </tr>\n",
       "    <tr>\n",
       "      <td>2</td>\n",
       "      <td>и если будет создано что-то</td>\n",
       "      <td>подобно</td>\n",
       "      <td>военного блока между нами и Китаем /</td>\n",
       "      <td>1979</td>\n",
       "      <td>кино, нехудожественная</td>\n",
       "      <td>кинодрама</td>\n",
       "      <td>Я например считаю / что ехать нужно только с т...</td>\n",
       "    </tr>\n",
       "  </tbody>\n",
       "</table>\n",
       "</div>"
      ],
      "text/plain": [
       "                              Left context      Center  \\\n",
       "0           конь\" / iva / \" как / как бы /    подобно    \n",
       "1  прошу́ / прекрати́те / э́то же… сме́рти   подо́бно    \n",
       "2              и если будет создано что-то    подобно    \n",
       "\n",
       "                           Right context Created                  Sphere  \\\n",
       "0                                    NaN    2003  кино, нехудожественная   \n",
       "1                                    NaN    1980  кино, нехудожественная   \n",
       "2  военного блока между нами и Китаем /     1979  кино, нехудожественная   \n",
       "\n",
       "                     Type                                       Full context  \n",
       "0  кинодрама, экранизация  aSva / это \" конь\" / iva / \" как / как бы / по...  \n",
       "1  кинодрама, кинокомедия  Я́ ва́с прошу́ / прекрати́те / э́то же… сме́рт...  \n",
       "2               кинодрама  Я например считаю / что ехать нужно только с т...  "
      ]
     },
     "execution_count": 40,
     "metadata": {},
     "output_type": "execute_result"
    }
   ],
   "source": [
    "df_podobno_sp.head(3)"
   ]
  },
  {
   "cell_type": "code",
   "execution_count": 57,
   "metadata": {},
   "outputs": [
    {
     "data": {
      "text/plain": [
       "(52, 7)"
      ]
     },
     "execution_count": 57,
     "metadata": {},
     "output_type": "execute_result"
    }
   ],
   "source": [
    "df_podobno_sp.shape"
   ]
  },
  {
   "cell_type": "code",
   "execution_count": 73,
   "metadata": {},
   "outputs": [],
   "source": [
    "df_podobno_sp.to_csv(r'C:\\Users\\User\\Desktop\\r project\\datasets\\df_podobno_sp.csv', encoding='utf-8', index = False)"
   ]
  },
  {
   "cell_type": "markdown",
   "metadata": {},
   "source": [
    "### а-ля"
   ]
  },
  {
   "cell_type": "code",
   "execution_count": 41,
   "metadata": {},
   "outputs": [],
   "source": [
    "df_ala_sp = pd.read_excel('spoken_corpora_rand_a-la.xlsx')"
   ]
  },
  {
   "cell_type": "code",
   "execution_count": 42,
   "metadata": {},
   "outputs": [],
   "source": [
    "df_ala_sp = df_ala_sp.drop(['Reversed left context', 'Reversed center', 'Punct', 'Title', 'Author', 'Birthday', 'Header', 'Ambiguity', 'Medium', 'Topic', 'Publication', 'Publ_year'], axis=1)"
   ]
  },
  {
   "cell_type": "code",
   "execution_count": 43,
   "metadata": {},
   "outputs": [
    {
     "data": {
      "text/html": [
       "<div>\n",
       "<style scoped>\n",
       "    .dataframe tbody tr th:only-of-type {\n",
       "        vertical-align: middle;\n",
       "    }\n",
       "\n",
       "    .dataframe tbody tr th {\n",
       "        vertical-align: top;\n",
       "    }\n",
       "\n",
       "    .dataframe thead th {\n",
       "        text-align: right;\n",
       "    }\n",
       "</style>\n",
       "<table border=\"1\" class=\"dataframe\">\n",
       "  <thead>\n",
       "    <tr style=\"text-align: right;\">\n",
       "      <th></th>\n",
       "      <th>Left context</th>\n",
       "      <th>Center</th>\n",
       "      <th>Right context</th>\n",
       "      <th>Created</th>\n",
       "      <th>Sphere</th>\n",
       "      <th>Type</th>\n",
       "      <th>Full context</th>\n",
       "    </tr>\n",
       "  </thead>\n",
       "  <tbody>\n",
       "    <tr>\n",
       "      <td>0</td>\n",
       "      <td>никто́ не бу́дет вести́ до́лгий</td>\n",
       "      <td>а́-ля́</td>\n",
       "      <td>NaN</td>\n",
       "      <td>2019</td>\n",
       "      <td>нехудожественная, устная непубличная речь</td>\n",
       "      <td>домашний, разговор</td>\n",
       "      <td>С тобо́й никто́ не бу́дет вести́ до́лгий а́-ля...</td>\n",
       "    </tr>\n",
       "    <tr>\n",
       "      <td>1</td>\n",
       "      <td>Ну да́/ та́м своя́ каните́ль.</td>\n",
       "      <td>а́-ля́</td>\n",
       "      <td>задуше́вные бесе́ды.</td>\n",
       "      <td>2019</td>\n",
       "      <td>нехудожественная, устная непубличная речь</td>\n",
       "      <td>домашний, разговор</td>\n",
       "      <td>Ну да́/ та́м своя́ каните́ль. а́-ля́ задуше́вн...</td>\n",
       "    </tr>\n",
       "    <tr>\n",
       "      <td>2</td>\n",
       "      <td>шесто́го го́да а́а ну та́м</td>\n",
       "      <td>а́-ля́</td>\n",
       "      <td>путеводи́тель по Краснодо́ну/ и вот та́м</td>\n",
       "      <td>2019</td>\n",
       "      <td>нехудожественная, устная непубличная речь</td>\n",
       "      <td>домашний, разговор</td>\n",
       "      <td>Еди́нственное/ что́ я́ нашла́― э́то а́а во́сем...</td>\n",
       "    </tr>\n",
       "  </tbody>\n",
       "</table>\n",
       "</div>"
      ],
      "text/plain": [
       "                      Left context    Center  \\\n",
       "0  никто́ не бу́дет вести́ до́лгий   а́-ля́    \n",
       "1    Ну да́/ та́м своя́ каните́ль.   а́-ля́    \n",
       "2       шесто́го го́да а́а ну та́м   а́-ля́    \n",
       "\n",
       "                               Right context  Created  \\\n",
       "0                                        NaN     2019   \n",
       "1                       задуше́вные бесе́ды.     2019   \n",
       "2  путеводи́тель по Краснодо́ну/ и вот та́м      2019   \n",
       "\n",
       "                                      Sphere                Type  \\\n",
       "0  нехудожественная, устная непубличная речь  домашний, разговор   \n",
       "1  нехудожественная, устная непубличная речь  домашний, разговор   \n",
       "2  нехудожественная, устная непубличная речь  домашний, разговор   \n",
       "\n",
       "                                        Full context  \n",
       "0  С тобо́й никто́ не бу́дет вести́ до́лгий а́-ля...  \n",
       "1  Ну да́/ та́м своя́ каните́ль. а́-ля́ задуше́вн...  \n",
       "2  Еди́нственное/ что́ я́ нашла́― э́то а́а во́сем...  "
      ]
     },
     "execution_count": 43,
     "metadata": {},
     "output_type": "execute_result"
    }
   ],
   "source": [
    "df_ala_sp.head(3)"
   ]
  },
  {
   "cell_type": "code",
   "execution_count": 56,
   "metadata": {},
   "outputs": [
    {
     "data": {
      "text/plain": [
       "(23, 7)"
      ]
     },
     "execution_count": 56,
     "metadata": {},
     "output_type": "execute_result"
    }
   ],
   "source": [
    "df_ala_sp.shape"
   ]
  },
  {
   "cell_type": "code",
   "execution_count": 74,
   "metadata": {},
   "outputs": [],
   "source": [
    "df_ala_sp.to_csv(r'C:\\Users\\User\\Desktop\\r project\\datasets\\df_ala_sp.csv', encoding='utf-8', index = False)"
   ]
  },
  {
   "cell_type": "markdown",
   "metadata": {},
   "source": [
    "### аки"
   ]
  },
  {
   "cell_type": "code",
   "execution_count": 44,
   "metadata": {},
   "outputs": [],
   "source": [
    "df_aki_sp = pd.read_excel('spoken_corpora_rand_aki.xlsx')"
   ]
  },
  {
   "cell_type": "code",
   "execution_count": 45,
   "metadata": {},
   "outputs": [],
   "source": [
    "df_aki_sp = df_aki_sp.drop(['Reversed left context', 'Reversed center', 'Punct', 'Title', 'Author', 'Birthday', 'Header', 'Ambiguity', 'Medium', 'Topic', 'Publication', 'Publ_year'], axis=1)"
   ]
  },
  {
   "cell_type": "code",
   "execution_count": 46,
   "metadata": {},
   "outputs": [
    {
     "data": {
      "text/html": [
       "<div>\n",
       "<style scoped>\n",
       "    .dataframe tbody tr th:only-of-type {\n",
       "        vertical-align: middle;\n",
       "    }\n",
       "\n",
       "    .dataframe tbody tr th {\n",
       "        vertical-align: top;\n",
       "    }\n",
       "\n",
       "    .dataframe thead th {\n",
       "        text-align: right;\n",
       "    }\n",
       "</style>\n",
       "<table border=\"1\" class=\"dataframe\">\n",
       "  <thead>\n",
       "    <tr style=\"text-align: right;\">\n",
       "      <th></th>\n",
       "      <th>Left context</th>\n",
       "      <th>Center</th>\n",
       "      <th>Right context</th>\n",
       "      <th>Created</th>\n",
       "      <th>Sphere</th>\n",
       "      <th>Type</th>\n",
       "      <th>Full context</th>\n",
       "    </tr>\n",
       "  </thead>\n",
       "  <tbody>\n",
       "    <tr>\n",
       "      <td>0</td>\n",
       "      <td>А́нька же у на́с</td>\n",
       "      <td>аки</td>\n",
       "      <td>сло́н― споко́йная.</td>\n",
       "      <td>1987</td>\n",
       "      <td>кино, нехудожественная</td>\n",
       "      <td>кино историческое, кино приключенческое</td>\n",
       "      <td>А́нька же у на́с аки сло́н― споко́йная.   [Нин...</td>\n",
       "    </tr>\n",
       "    <tr>\n",
       "      <td>1</td>\n",
       "      <td>что прикры́в сра́м лица́ бородо́ю /</td>\n",
       "      <td>аки</td>\n",
       "      <td>го́лубь в свято́м неве́дении возноси́ла моли́твы.</td>\n",
       "      <td>1937</td>\n",
       "      <td>кино, нехудожественная</td>\n",
       "      <td>кино историческое, экранизация</td>\n",
       "      <td>Те́м и сильна́ была́ Росси́я / что прикры́в ср...</td>\n",
       "    </tr>\n",
       "    <tr>\n",
       "      <td>2</td>\n",
       "      <td>Виде́ния сказу́ют/</td>\n",
       "      <td>аки</td>\n",
       "      <td>бы шпио́нами к Бо́гу ходи́ли/ притво́рныя</td>\n",
       "      <td>1973</td>\n",
       "      <td>кино, нехудожественная</td>\n",
       "      <td>кинокомедия</td>\n",
       "      <td>Виде́ния сказу́ют/ аки бы шпио́нами к Бо́гу хо...</td>\n",
       "    </tr>\n",
       "  </tbody>\n",
       "</table>\n",
       "</div>"
      ],
      "text/plain": [
       "                          Left context Center  \\\n",
       "0                     А́нька же у на́с   аки    \n",
       "1  что прикры́в сра́м лица́ бородо́ю /   аки    \n",
       "2                   Виде́ния сказу́ют/   аки    \n",
       "\n",
       "                                       Right context  Created  \\\n",
       "0                               сло́н― споко́йная.       1987   \n",
       "1  го́лубь в свято́м неве́дении возноси́ла моли́твы.     1937   \n",
       "2         бы шпио́нами к Бо́гу ходи́ли/ притво́рныя      1973   \n",
       "\n",
       "                   Sphere                                     Type  \\\n",
       "0  кино, нехудожественная  кино историческое, кино приключенческое   \n",
       "1  кино, нехудожественная           кино историческое, экранизация   \n",
       "2  кино, нехудожественная                              кинокомедия   \n",
       "\n",
       "                                        Full context  \n",
       "0  А́нька же у на́с аки сло́н― споко́йная.   [Нин...  \n",
       "1  Те́м и сильна́ была́ Росси́я / что прикры́в ср...  \n",
       "2  Виде́ния сказу́ют/ аки бы шпио́нами к Бо́гу хо...  "
      ]
     },
     "execution_count": 46,
     "metadata": {},
     "output_type": "execute_result"
    }
   ],
   "source": [
    "df_aki_sp.head(3)"
   ]
  },
  {
   "cell_type": "code",
   "execution_count": 55,
   "metadata": {},
   "outputs": [
    {
     "data": {
      "text/plain": [
       "(11, 7)"
      ]
     },
     "execution_count": 55,
     "metadata": {},
     "output_type": "execute_result"
    }
   ],
   "source": [
    "df_aki_sp.shape"
   ]
  },
  {
   "cell_type": "code",
   "execution_count": 75,
   "metadata": {},
   "outputs": [],
   "source": [
    "df_aki_sp.to_csv(r'C:\\Users\\User\\Desktop\\r project\\datasets\\df_aki_sp.csv', encoding='utf-8', index = False)"
   ]
  },
  {
   "cell_type": "markdown",
   "metadata": {},
   "source": [
    "### словно"
   ]
  },
  {
   "cell_type": "code",
   "execution_count": 47,
   "metadata": {},
   "outputs": [],
   "source": [
    "df_slovno_sp = pd.read_excel('spoken_corpora_rand_slovno.xlsx')"
   ]
  },
  {
   "cell_type": "code",
   "execution_count": 48,
   "metadata": {},
   "outputs": [],
   "source": [
    "df_slovno_sp = df_slovno_sp.drop(['Reversed left context', 'Reversed center', 'Punct', 'Title', 'Author', 'Birthday', 'Header', 'Ambiguity', 'Medium', 'Topic', 'Publication', 'Publ_year'], axis=1)"
   ]
  },
  {
   "cell_type": "code",
   "execution_count": 49,
   "metadata": {},
   "outputs": [
    {
     "data": {
      "text/html": [
       "<div>\n",
       "<style scoped>\n",
       "    .dataframe tbody tr th:only-of-type {\n",
       "        vertical-align: middle;\n",
       "    }\n",
       "\n",
       "    .dataframe tbody tr th {\n",
       "        vertical-align: top;\n",
       "    }\n",
       "\n",
       "    .dataframe thead th {\n",
       "        text-align: right;\n",
       "    }\n",
       "</style>\n",
       "<table border=\"1\" class=\"dataframe\">\n",
       "  <thead>\n",
       "    <tr style=\"text-align: right;\">\n",
       "      <th></th>\n",
       "      <th>Left context</th>\n",
       "      <th>Center</th>\n",
       "      <th>Right context</th>\n",
       "      <th>Created</th>\n",
       "      <th>Sphere</th>\n",
       "      <th>Type</th>\n",
       "      <th>Full context</th>\n",
       "    </tr>\n",
       "  </thead>\n",
       "  <tbody>\n",
       "    <tr>\n",
       "      <td>0</td>\n",
       "      <td>Разры́вы</td>\n",
       "      <td>сло́вно</td>\n",
       "      <td>желе́зный ве́тер.</td>\n",
       "      <td>1973</td>\n",
       "      <td>кино, нехудожественная</td>\n",
       "      <td>кинокомедия, экранизация</td>\n",
       "      <td>Разры́вы сло́вно желе́зный ве́тер. [Алексей Ко...</td>\n",
       "    </tr>\n",
       "    <tr>\n",
       "      <td>1</td>\n",
       "      <td>NaN</td>\n",
       "      <td>Сло́вно</td>\n",
       "      <td>ди́кого быка́ / За рога́ беру́ уда́чу!</td>\n",
       "      <td>1973</td>\n",
       "      <td>кино, нехудожественная</td>\n",
       "      <td>кинодетектив, экранизация</td>\n",
       "      <td>Сло́вно ди́кого быка́ / За рога́ беру́ уда́чу!...</td>\n",
       "    </tr>\n",
       "    <tr>\n",
       "      <td>2</td>\n",
       "      <td>То́лько бу́дут но́жики</td>\n",
       "      <td>сло́вно</td>\n",
       "      <td>ре́зать но́-жки́.</td>\n",
       "      <td>2006</td>\n",
       "      <td>кино, нехудожественная</td>\n",
       "      <td>кинокомедия, кинофарс</td>\n",
       "      <td>То́лько бу́дут но́жики сло́вно ре́зать но́-жки...</td>\n",
       "    </tr>\n",
       "  </tbody>\n",
       "</table>\n",
       "</div>"
      ],
      "text/plain": [
       "             Left context     Center                            Right context  \\\n",
       "0                Разры́вы   сло́вно                         желе́зный ве́тер.   \n",
       "1                     NaN   Сло́вно   ди́кого быка́ / За рога́ беру́ уда́чу!    \n",
       "2  То́лько бу́дут но́жики   сло́вно                         ре́зать но́-жки́.   \n",
       "\n",
       "  Created                  Sphere                       Type  \\\n",
       "0    1973  кино, нехудожественная   кинокомедия, экранизация   \n",
       "1    1973  кино, нехудожественная  кинодетектив, экранизация   \n",
       "2    2006  кино, нехудожественная      кинокомедия, кинофарс   \n",
       "\n",
       "                                        Full context  \n",
       "0  Разры́вы сло́вно желе́зный ве́тер. [Алексей Ко...  \n",
       "1  Сло́вно ди́кого быка́ / За рога́ беру́ уда́чу!...  \n",
       "2  То́лько бу́дут но́жики сло́вно ре́зать но́-жки...  "
      ]
     },
     "execution_count": 49,
     "metadata": {},
     "output_type": "execute_result"
    }
   ],
   "source": [
    "df_slovno_sp.head(3)"
   ]
  },
  {
   "cell_type": "code",
   "execution_count": 54,
   "metadata": {},
   "outputs": [
    {
     "data": {
      "text/plain": [
       "(180, 7)"
      ]
     },
     "execution_count": 54,
     "metadata": {},
     "output_type": "execute_result"
    }
   ],
   "source": [
    "df_slovno_sp.shape"
   ]
  },
  {
   "cell_type": "code",
   "execution_count": 76,
   "metadata": {},
   "outputs": [],
   "source": [
    "df_slovno_sp.to_csv(r'C:\\Users\\User\\Desktop\\r project\\datasets\\df_slovno_sp.csv', encoding='utf-8', index = False)"
   ]
  },
  {
   "cell_type": "markdown",
   "metadata": {},
   "source": [
    "### будто"
   ]
  },
  {
   "cell_type": "code",
   "execution_count": 50,
   "metadata": {},
   "outputs": [],
   "source": [
    "df_budto_sp = pd.read_excel('spoken_corpora_rand_budto.xlsx')"
   ]
  },
  {
   "cell_type": "code",
   "execution_count": 51,
   "metadata": {},
   "outputs": [],
   "source": [
    "df_budto_sp = df_budto_sp.drop(['Reversed left context', 'Reversed center', 'Punct', 'Title', 'Author', 'Birthday', 'Header', 'Ambiguity', 'Medium', 'Topic', 'Publication', 'Publ_year'], axis=1)"
   ]
  },
  {
   "cell_type": "code",
   "execution_count": 52,
   "metadata": {},
   "outputs": [
    {
     "data": {
      "text/html": [
       "<div>\n",
       "<style scoped>\n",
       "    .dataframe tbody tr th:only-of-type {\n",
       "        vertical-align: middle;\n",
       "    }\n",
       "\n",
       "    .dataframe tbody tr th {\n",
       "        vertical-align: top;\n",
       "    }\n",
       "\n",
       "    .dataframe thead th {\n",
       "        text-align: right;\n",
       "    }\n",
       "</style>\n",
       "<table border=\"1\" class=\"dataframe\">\n",
       "  <thead>\n",
       "    <tr style=\"text-align: right;\">\n",
       "      <th></th>\n",
       "      <th>Left context</th>\n",
       "      <th>Center</th>\n",
       "      <th>Right context</th>\n",
       "      <th>Created</th>\n",
       "      <th>Sphere</th>\n",
       "      <th>Type</th>\n",
       "      <th>Full context</th>\n",
       "    </tr>\n",
       "  </thead>\n",
       "  <tbody>\n",
       "    <tr>\n",
       "      <td>0</td>\n",
       "      <td>Ну как</td>\n",
       "      <td>бу́дто</td>\n",
       "      <td>на охо́те.</td>\n",
       "      <td>1961</td>\n",
       "      <td>кино, нехудожественная</td>\n",
       "      <td>кинокомедия</td>\n",
       "      <td>Ну как бу́дто на охо́те.   [Борис Бедный, Юлий...</td>\n",
       "    </tr>\n",
       "    <tr>\n",
       "      <td>1</td>\n",
       "      <td>Как</td>\n",
       "      <td>бу́дто</td>\n",
       "      <td>на охо́те!</td>\n",
       "      <td>1961</td>\n",
       "      <td>кино, нехудожественная</td>\n",
       "      <td>кинокомедия</td>\n",
       "      <td>Как бу́дто на охо́те!    [Борис Бедный, Юлий Р...</td>\n",
       "    </tr>\n",
       "    <tr>\n",
       "      <td>2</td>\n",
       "      <td>Да как</td>\n",
       "      <td>бу́дто</td>\n",
       "      <td>б поле́гче / това́рищ майо́р.</td>\n",
       "      <td>2007</td>\n",
       "      <td>кино, нехудожественная</td>\n",
       "      <td>кинокомедия</td>\n",
       "      <td>Да как бу́дто б поле́гче / това́рищ майо́р.   ...</td>\n",
       "    </tr>\n",
       "  </tbody>\n",
       "</table>\n",
       "</div>"
      ],
      "text/plain": [
       "  Left context    Center                    Right context Created  \\\n",
       "0       Ну как   бу́дто                      на охо́те.      1961   \n",
       "1          Как   бу́дто                     на охо́те!       1961   \n",
       "2       Да как   бу́дто   б поле́гче / това́рищ майо́р.      2007   \n",
       "\n",
       "                   Sphere         Type  \\\n",
       "0  кино, нехудожественная  кинокомедия   \n",
       "1  кино, нехудожественная  кинокомедия   \n",
       "2  кино, нехудожественная  кинокомедия   \n",
       "\n",
       "                                        Full context  \n",
       "0  Ну как бу́дто на охо́те.   [Борис Бедный, Юлий...  \n",
       "1  Как бу́дто на охо́те!    [Борис Бедный, Юлий Р...  \n",
       "2  Да как бу́дто б поле́гче / това́рищ майо́р.   ...  "
      ]
     },
     "execution_count": 52,
     "metadata": {},
     "output_type": "execute_result"
    }
   ],
   "source": [
    "df_budto_sp.head(3)"
   ]
  },
  {
   "cell_type": "code",
   "execution_count": 53,
   "metadata": {},
   "outputs": [
    {
     "data": {
      "text/plain": [
       "(598, 7)"
      ]
     },
     "execution_count": 53,
     "metadata": {},
     "output_type": "execute_result"
    }
   ],
   "source": [
    "df_budto_sp.shape"
   ]
  },
  {
   "cell_type": "code",
   "execution_count": 77,
   "metadata": {},
   "outputs": [],
   "source": [
    "df_budto_sp.to_csv(r'C:\\Users\\User\\Desktop\\r project\\datasets\\df_budto_sp.csv', encoding='utf-8', index = False)"
   ]
  }
 ],
 "metadata": {
  "kernelspec": {
   "display_name": "Python 3",
   "language": "python",
   "name": "python3"
  },
  "language_info": {
   "codemirror_mode": {
    "name": "ipython",
    "version": 3
   },
   "file_extension": ".py",
   "mimetype": "text/x-python",
   "name": "python",
   "nbconvert_exporter": "python",
   "pygments_lexer": "ipython3",
   "version": "3.7.4"
  }
 },
 "nbformat": 4,
 "nbformat_minor": 2
}
