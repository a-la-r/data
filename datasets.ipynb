{
 "cells": [
  {
   "cell_type": "code",
   "execution_count": 155,
   "metadata": {},
   "outputs": [],
   "source": [
    "import pandas as pd\n",
    "from string import punctuation\n",
    "import pymorphy2\n",
    "import numpy as np\n",
    "morph = pymorphy2.MorphAnalyzer()"
   ]
  },
  {
   "cell_type": "code",
   "execution_count": 156,
   "metadata": {},
   "outputs": [],
   "source": [
    "punctuation += '...«»―'"
   ]
  },
  {
   "cell_type": "code",
   "execution_count": 157,
   "metadata": {},
   "outputs": [
    {
     "data": {
      "text/plain": [
       "'!\"#$%&\\'()*+,-./:;<=>?@[\\\\]^_`{|}~...«»―'"
      ]
     },
     "execution_count": 157,
     "metadata": {},
     "output_type": "execute_result"
    }
   ],
   "source": [
    "punctuation"
   ]
  },
  {
   "cell_type": "code",
   "execution_count": 158,
   "metadata": {},
   "outputs": [],
   "source": [
    "path = \"./Written corpora/\""
   ]
  },
  {
   "cell_type": "markdown",
   "metadata": {},
   "source": [
    "## Письменный"
   ]
  },
  {
   "cell_type": "markdown",
   "metadata": {},
   "source": [
    "### как"
   ]
  },
  {
   "cell_type": "code",
   "execution_count": 159,
   "metadata": {},
   "outputs": [],
   "source": [
    "df_kak_wr = pd.read_excel(path+'kak.xlsx')"
   ]
  },
  {
   "cell_type": "code",
   "execution_count": 160,
   "metadata": {},
   "outputs": [],
   "source": [
    "df_kak_wr = df_kak_wr.sample(500)"
   ]
  },
  {
   "cell_type": "code",
   "execution_count": 161,
   "metadata": {},
   "outputs": [],
   "source": [
    "df_kak_wr = df_kak_wr.reset_index(drop=True)"
   ]
  },
  {
   "cell_type": "code",
   "execution_count": 162,
   "metadata": {},
   "outputs": [
    {
     "data": {
      "text/plain": [
       "(500, 19)"
      ]
     },
     "execution_count": 162,
     "metadata": {},
     "output_type": "execute_result"
    }
   ],
   "source": [
    "df_kak_wr.shape"
   ]
  },
  {
   "cell_type": "code",
   "execution_count": 163,
   "metadata": {},
   "outputs": [],
   "source": [
    "df_kak_wr = df_kak_wr.drop(['Reversed left context','Reversed center', 'Punct', 'Title', 'Author', 'Birthday', 'Header', 'Ambiguity', 'Medium', 'Topic', 'Publication', 'Publ_year'], axis=1)"
   ]
  },
  {
   "cell_type": "code",
   "execution_count": 164,
   "metadata": {},
   "outputs": [],
   "source": [
    "df_kak_wr['Left_context_POS'] = ''\n",
    "\n",
    "for i, text in enumerate(df_kak_wr['Left context']):\n",
    "    try:\n",
    "        words = [word.strip(punctuation) for word in text.split() if word not in punctuation]\n",
    "        p = morph.parse(words[-1])[0]\n",
    "        tag_info = str(p.tag)[:4]\n",
    "        df_kak_wr['Left_context_POS'][i] = tag_info\n",
    "        \n",
    "    except:\n",
    "        continue"
   ]
  },
  {
   "cell_type": "code",
   "execution_count": 165,
   "metadata": {},
   "outputs": [],
   "source": [
    "#df_kak_wr['Left_context_POS'].fillna(np.nan, inplace=True)\n",
    "df_kak_wr['Left_context_POS'].replace('', np.nan, inplace=True)"
   ]
  },
  {
   "cell_type": "code",
   "execution_count": 166,
   "metadata": {},
   "outputs": [],
   "source": [
    "df_kak_wr['Right_context_POS'] = ''\n",
    "\n",
    "for i, text in enumerate(df_kak_wr['Right context']):\n",
    "    try:\n",
    "        words = [word.strip(punctuation) for word in text.split() if word not in punctuation]\n",
    "        p = morph.parse(words[0])[0]\n",
    "        tag_info = str(p.tag)[:4]\n",
    "        df_kak_wr['Right_context_POS'][i] = tag_info\n",
    "\n",
    "        \n",
    "    except:\n",
    "        continue"
   ]
  },
  {
   "cell_type": "code",
   "execution_count": 167,
   "metadata": {},
   "outputs": [],
   "source": [
    "#df_kak_wr['Right_context_POS'].fillna(np.nan, inplace=True)\n",
    "df_kak_wr['Right_context_POS'].replace('', np.nan, inplace=True)"
   ]
  },
  {
   "cell_type": "code",
   "execution_count": 168,
   "metadata": {},
   "outputs": [],
   "source": [
    "for i, text in enumerate(df_kak_wr['Sphere']):\n",
    "    df_kak_wr['Sphere'][i] = text.split(',')[0]\n"
   ]
  },
  {
   "cell_type": "code",
   "execution_count": 169,
   "metadata": {},
   "outputs": [
    {
     "data": {
      "text/html": [
       "<div>\n",
       "<style scoped>\n",
       "    .dataframe tbody tr th:only-of-type {\n",
       "        vertical-align: middle;\n",
       "    }\n",
       "\n",
       "    .dataframe tbody tr th {\n",
       "        vertical-align: top;\n",
       "    }\n",
       "\n",
       "    .dataframe thead th {\n",
       "        text-align: right;\n",
       "    }\n",
       "</style>\n",
       "<table border=\"1\" class=\"dataframe\">\n",
       "  <thead>\n",
       "    <tr style=\"text-align: right;\">\n",
       "      <th></th>\n",
       "      <th>Left context</th>\n",
       "      <th>Center</th>\n",
       "      <th>Right context</th>\n",
       "      <th>Created</th>\n",
       "      <th>Sphere</th>\n",
       "      <th>Type</th>\n",
       "      <th>Full context</th>\n",
       "      <th>Left_context_POS</th>\n",
       "      <th>Right_context_POS</th>\n",
       "    </tr>\n",
       "  </thead>\n",
       "  <tbody>\n",
       "    <tr>\n",
       "      <th>0</th>\n",
       "      <td>Все было сделано точно, быстро ―</td>\n",
       "      <td>как</td>\n",
       "      <td>и всегда.</td>\n",
       "      <td>1941</td>\n",
       "      <td>нехудожественная</td>\n",
       "      <td>дневник, записные книжки</td>\n",
       "      <td>Все было сделано точно, быстро ― как и всегда....</td>\n",
       "      <td>ADVB</td>\n",
       "      <td>CONJ</td>\n",
       "    </tr>\n",
       "    <tr>\n",
       "      <th>1</th>\n",
       "      <td>у меня такого жадного слушателя,</td>\n",
       "      <td>как</td>\n",
       "      <td>Есенин.</td>\n",
       "      <td>1924</td>\n",
       "      <td>нехудожественная</td>\n",
       "      <td>мемуары</td>\n",
       "      <td>Но, пожалуй, не было у меня такого жадного слу...</td>\n",
       "      <td>NOUN</td>\n",
       "      <td>NOUN</td>\n",
       "    </tr>\n",
       "    <tr>\n",
       "      <th>2</th>\n",
       "      <td>снаряжаюсь я» и т. д.</td>\n",
       "      <td>Как</td>\n",
       "      <td>видим, героический музыкальный жанр служит тут</td>\n",
       "      <td>1939.01.16</td>\n",
       "      <td>нехудожественная</td>\n",
       "      <td>статья</td>\n",
       "      <td>снаряжаюсь я» и т. д. Как видим, героический м...</td>\n",
       "      <td>ADVB</td>\n",
       "      <td>VERB</td>\n",
       "    </tr>\n",
       "    <tr>\n",
       "      <th>3</th>\n",
       "      <td>берет, заплатит вывод, против того,</td>\n",
       "      <td>как</td>\n",
       "      <td>и с других обкновенно в тех</td>\n",
       "      <td>1724</td>\n",
       "      <td>нехудожественная</td>\n",
       "      <td>указ</td>\n",
       "      <td>Однакож помещик такои вдовы или девки, которая...</td>\n",
       "      <td>ADJF</td>\n",
       "      <td>CONJ</td>\n",
       "    </tr>\n",
       "    <tr>\n",
       "      <th>4</th>\n",
       "      <td>Думалось ―</td>\n",
       "      <td>как</td>\n",
       "      <td>мог появиться здесь такой человек в</td>\n",
       "      <td>1926</td>\n",
       "      <td>нехудожественная</td>\n",
       "      <td>мемуары</td>\n",
       "      <td>Думалось ― как мог появиться здесь такой челов...</td>\n",
       "      <td>VERB</td>\n",
       "      <td>VERB</td>\n",
       "    </tr>\n",
       "    <tr>\n",
       "      <th>5</th>\n",
       "      <td>жемчужной устрицы не что иное,</td>\n",
       "      <td>как</td>\n",
       "      <td>известняк.</td>\n",
       "      <td>1834</td>\n",
       "      <td>художественная</td>\n",
       "      <td>очерк</td>\n",
       "      <td>2Страх люблю ученых; кому-то из них вздумалось...</td>\n",
       "      <td>ADJF</td>\n",
       "      <td>NOUN</td>\n",
       "    </tr>\n",
       "    <tr>\n",
       "      <th>6</th>\n",
       "      <td>приближающагося человѣка и сталъ опасаться,</td>\n",
       "      <td>какъ</td>\n",
       "      <td>бы онъ не открылъ меня; къ</td>\n",
       "      <td>1850</td>\n",
       "      <td>художественная</td>\n",
       "      <td>роман</td>\n",
       "      <td>Нѣсколько времени спустя, я услышалъ шаги осто...</td>\n",
       "      <td>INFN</td>\n",
       "      <td>PRCL</td>\n",
       "    </tr>\n",
       "    <tr>\n",
       "      <th>7</th>\n",
       "      <td>Залюбоваться надо было,</td>\n",
       "      <td>как</td>\n",
       "      <td>постепенно загоралась иллюминация: казалось, о...</td>\n",
       "      <td>1833</td>\n",
       "      <td>художественная</td>\n",
       "      <td>повесть</td>\n",
       "      <td>Залюбоваться надо было, как постепенно загорал...</td>\n",
       "      <td>VERB</td>\n",
       "      <td>ADVB</td>\n",
       "    </tr>\n",
       "    <tr>\n",
       "      <th>8</th>\n",
       "      <td>по крайней мере и возможности,</td>\n",
       "      <td>как</td>\n",
       "      <td>сие честным людям и подданным его</td>\n",
       "      <td>1721</td>\n",
       "      <td>нехудожественная</td>\n",
       "      <td>устав</td>\n",
       "      <td>И для того иметь старание по крайней мере и во...</td>\n",
       "      <td>NOUN</td>\n",
       "      <td>ADJF</td>\n",
       "    </tr>\n",
       "    <tr>\n",
       "      <th>9</th>\n",
       "      <td>самых крепостей; и хотя губернаторами,</td>\n",
       "      <td>как</td>\n",
       "      <td>Оренбургским, так и Казанским, и помянутым</td>\n",
       "      <td>1773</td>\n",
       "      <td>нехудожественная</td>\n",
       "      <td>манифест, указ</td>\n",
       "      <td>пишут, великое возмущение, но причиняет смертн...</td>\n",
       "      <td>NOUN</td>\n",
       "      <td>ADJF</td>\n",
       "    </tr>\n",
       "  </tbody>\n",
       "</table>\n",
       "</div>"
      ],
      "text/plain": [
       "                                  Left context  Center  \\\n",
       "0             Все было сделано точно, быстро ―    как    \n",
       "1             у меня такого жадного слушателя,    как    \n",
       "2                        снаряжаюсь я» и т. д.    Как    \n",
       "3          берет, заплатит вывод, против того,    как    \n",
       "4                                   Думалось ―    как    \n",
       "5               жемчужной устрицы не что иное,    как    \n",
       "6  приближающагося человѣка и сталъ опасаться,   какъ    \n",
       "7                      Залюбоваться надо было,    как    \n",
       "8               по крайней мере и возможности,    как    \n",
       "9       самых крепостей; и хотя губернаторами,    как    \n",
       "\n",
       "                                       Right context     Created  \\\n",
       "0                                        и всегда.          1941   \n",
       "1                                            Есенин.        1924   \n",
       "2    видим, героический музыкальный жанр служит тут   1939.01.16   \n",
       "3                       и с других обкновенно в тех         1724   \n",
       "4               мог появиться здесь такой человек в         1926   \n",
       "5                                         известняк.        1834   \n",
       "6                        бы онъ не открылъ меня; къ         1850   \n",
       "7  постепенно загоралась иллюминация: казалось, о...        1833   \n",
       "8                 сие честным людям и подданным его         1721   \n",
       "9        Оренбургским, так и Казанским, и помянутым         1773   \n",
       "\n",
       "             Sphere                      Type  \\\n",
       "0  нехудожественная  дневник, записные книжки   \n",
       "1  нехудожественная                   мемуары   \n",
       "2  нехудожественная                    статья   \n",
       "3  нехудожественная                      указ   \n",
       "4  нехудожественная                   мемуары   \n",
       "5    художественная                     очерк   \n",
       "6    художественная                     роман   \n",
       "7    художественная                   повесть   \n",
       "8  нехудожественная                     устав   \n",
       "9  нехудожественная            манифест, указ   \n",
       "\n",
       "                                        Full context Left_context_POS  \\\n",
       "0  Все было сделано точно, быстро ― как и всегда....             ADVB   \n",
       "1  Но, пожалуй, не было у меня такого жадного слу...             NOUN   \n",
       "2  снаряжаюсь я» и т. д. Как видим, героический м...             ADVB   \n",
       "3  Однакож помещик такои вдовы или девки, которая...             ADJF   \n",
       "4  Думалось ― как мог появиться здесь такой челов...             VERB   \n",
       "5  2Страх люблю ученых; кому-то из них вздумалось...             ADJF   \n",
       "6  Нѣсколько времени спустя, я услышалъ шаги осто...             INFN   \n",
       "7  Залюбоваться надо было, как постепенно загорал...             VERB   \n",
       "8  И для того иметь старание по крайней мере и во...             NOUN   \n",
       "9  пишут, великое возмущение, но причиняет смертн...             NOUN   \n",
       "\n",
       "  Right_context_POS  \n",
       "0              CONJ  \n",
       "1              NOUN  \n",
       "2              VERB  \n",
       "3              CONJ  \n",
       "4              VERB  \n",
       "5              NOUN  \n",
       "6              PRCL  \n",
       "7              ADVB  \n",
       "8              ADJF  \n",
       "9              ADJF  "
      ]
     },
     "execution_count": 169,
     "metadata": {},
     "output_type": "execute_result"
    }
   ],
   "source": [
    "df_kak_wr.head(10)"
   ]
  },
  {
   "cell_type": "code",
   "execution_count": 170,
   "metadata": {},
   "outputs": [],
   "source": [
    "df_kak_wr.to_csv(r'.\\csv datasets\\df_kak_wr.csv', encoding='utf-8', index = False)"
   ]
  },
  {
   "cell_type": "markdown",
   "metadata": {},
   "source": [
    "### подобно"
   ]
  },
  {
   "cell_type": "code",
   "execution_count": 176,
   "metadata": {},
   "outputs": [],
   "source": [
    "df_podobno_wr = pd.read_excel(path+'podobno.xlsx')"
   ]
  },
  {
   "cell_type": "code",
   "execution_count": 178,
   "metadata": {},
   "outputs": [],
   "source": [
    "df_podobno_wr = df_podobno_wr.sample(500)\n",
    "df_podobno_wr = df_podobno_wr.reset_index(drop=True)"
   ]
  },
  {
   "cell_type": "code",
   "execution_count": 179,
   "metadata": {},
   "outputs": [],
   "source": []
  },
  {
   "cell_type": "code",
   "execution_count": 181,
   "metadata": {},
   "outputs": [],
   "source": [
    "df_podobno_wr = df_podobno_wr.drop(['Reversed left context', 'Reversed center', 'Punct', 'Title', 'Author', 'Birthday', 'Header', 'Ambiguity', 'Medium', 'Topic', 'Publication', 'Publ_year'], axis=1)"
   ]
  },
  {
   "cell_type": "code",
   "execution_count": 182,
   "metadata": {},
   "outputs": [
    {
     "data": {
      "text/plain": [
       "(500, 7)"
      ]
     },
     "execution_count": 182,
     "metadata": {},
     "output_type": "execute_result"
    }
   ],
   "source": [
    "df_podobno_wr.shape"
   ]
  },
  {
   "cell_type": "code",
   "execution_count": 183,
   "metadata": {},
   "outputs": [],
   "source": [
    "df_podobno_wr['Left_context_POS'] = ''\n",
    "\n",
    "for i, text in enumerate(df_podobno_wr['Left context']):\n",
    "    try:\n",
    "        words = [word.strip(punctuation) for word in text.split() if word not in punctuation]\n",
    "        p = morph.parse(words[-1])[0]\n",
    "        tag_info = str(p.tag)[:4]\n",
    "        df_podobno_wr['Left_context_POS'][i] = tag_info\n",
    "        \n",
    "    except:\n",
    "        continue"
   ]
  },
  {
   "cell_type": "code",
   "execution_count": 184,
   "metadata": {},
   "outputs": [],
   "source": [
    "df_podobno_wr['Left_context_POS'].replace('', np.nan, inplace=True)\n",
    "#df_podobno_wr['Left_context_POS'].fillna(np.nan, inplace=True)"
   ]
  },
  {
   "cell_type": "code",
   "execution_count": 185,
   "metadata": {},
   "outputs": [],
   "source": [
    "df_podobno_wr['Right_context_POS'] = ''\n",
    "\n",
    "for i, text in enumerate(df_podobno_wr['Right context']):\n",
    "    try:\n",
    "        words = [word.strip(punctuation) for word in text.split() if word not in punctuation]\n",
    "        p = morph.parse(words[0])[0]\n",
    "        tag_info = str(p.tag)[:4]\n",
    "        df_podobno_wr['Right_context_POS'][i] = tag_info\n",
    "\n",
    "        \n",
    "    except:\n",
    "        continue"
   ]
  },
  {
   "cell_type": "code",
   "execution_count": 186,
   "metadata": {},
   "outputs": [],
   "source": [
    "df_podobno_wr['Right_context_POS'].replace('', np.nan, inplace=True)\n",
    "#df_podobno_wr['Right_context_POS'].fillna(np.nan, inplace=True)"
   ]
  },
  {
   "cell_type": "code",
   "execution_count": 187,
   "metadata": {},
   "outputs": [],
   "source": [
    "for i, text in enumerate(df_podobno_wr['Sphere']):\n",
    "    df_podobno_wr['Sphere'][i] = text.split(',')[0]"
   ]
  },
  {
   "cell_type": "code",
   "execution_count": 188,
   "metadata": {},
   "outputs": [
    {
     "data": {
      "text/html": [
       "<div>\n",
       "<style scoped>\n",
       "    .dataframe tbody tr th:only-of-type {\n",
       "        vertical-align: middle;\n",
       "    }\n",
       "\n",
       "    .dataframe tbody tr th {\n",
       "        vertical-align: top;\n",
       "    }\n",
       "\n",
       "    .dataframe thead th {\n",
       "        text-align: right;\n",
       "    }\n",
       "</style>\n",
       "<table border=\"1\" class=\"dataframe\">\n",
       "  <thead>\n",
       "    <tr style=\"text-align: right;\">\n",
       "      <th></th>\n",
       "      <th>Left context</th>\n",
       "      <th>Center</th>\n",
       "      <th>Right context</th>\n",
       "      <th>Created</th>\n",
       "      <th>Sphere</th>\n",
       "      <th>Type</th>\n",
       "      <th>Full context</th>\n",
       "      <th>Left_context_POS</th>\n",
       "      <th>Right_context_POS</th>\n",
       "    </tr>\n",
       "  </thead>\n",
       "  <tbody>\n",
       "    <tr>\n",
       "      <th>0</th>\n",
       "      <td>на друга, шириться и расти,</td>\n",
       "      <td>подобно</td>\n",
       "      <td>тому, как маленький снежный комочек, толкаемый</td>\n",
       "      <td>1909-1915</td>\n",
       "      <td>художественная</td>\n",
       "      <td>повесть</td>\n",
       "      <td>Просто-напросто все злоключения сами собой ста...</td>\n",
       "      <td>VERB</td>\n",
       "      <td>ADJF</td>\n",
       "    </tr>\n",
       "    <tr>\n",
       "      <th>1</th>\n",
       "      <td>дама летит вверх по уступам,</td>\n",
       "      <td>подобно</td>\n",
       "      <td>лани или серне быстроногой, и вас</td>\n",
       "      <td>1911</td>\n",
       "      <td>художественная</td>\n",
       "      <td>роман</td>\n",
       "      <td>И ― хорошо вам разговаривать, когда ваша легко...</td>\n",
       "      <td>NOUN</td>\n",
       "      <td>NOUN</td>\n",
       "    </tr>\n",
       "    <tr>\n",
       "      <th>2</th>\n",
       "      <td>быть рожденным для грязи, быть,</td>\n",
       "      <td>подобно</td>\n",
       "      <td>слепорожденному физически, слепорожденным нрав...</td>\n",
       "      <td>1896-1898</td>\n",
       "      <td>художественная</td>\n",
       "      <td>очерк, цикл</td>\n",
       "      <td>Тут либо с детства надо в грязь по уши окунуть...</td>\n",
       "      <td>INFN</td>\n",
       "      <td>ADJF</td>\n",
       "    </tr>\n",
       "  </tbody>\n",
       "</table>\n",
       "</div>"
      ],
      "text/plain": [
       "                      Left context     Center  \\\n",
       "0      на друга, шириться и расти,   подобно    \n",
       "1     дама летит вверх по уступам,   подобно    \n",
       "2  быть рожденным для грязи, быть,   подобно    \n",
       "\n",
       "                                       Right context    Created  \\\n",
       "0    тому, как маленький снежный комочек, толкаемый   1909-1915   \n",
       "1                 лани или серне быстроногой, и вас        1911   \n",
       "2  слепорожденному физически, слепорожденным нрав...  1896-1898   \n",
       "\n",
       "           Sphere         Type  \\\n",
       "0  художественная      повесть   \n",
       "1  художественная        роман   \n",
       "2  художественная  очерк, цикл   \n",
       "\n",
       "                                        Full context Left_context_POS  \\\n",
       "0  Просто-напросто все злоключения сами собой ста...             VERB   \n",
       "1  И ― хорошо вам разговаривать, когда ваша легко...             NOUN   \n",
       "2  Тут либо с детства надо в грязь по уши окунуть...             INFN   \n",
       "\n",
       "  Right_context_POS  \n",
       "0              ADJF  \n",
       "1              NOUN  \n",
       "2              ADJF  "
      ]
     },
     "execution_count": 188,
     "metadata": {},
     "output_type": "execute_result"
    }
   ],
   "source": [
    "df_podobno_wr.head(3)"
   ]
  },
  {
   "cell_type": "code",
   "execution_count": 189,
   "metadata": {},
   "outputs": [],
   "source": [
    "df_podobno_wr.to_csv(r'.\\csv datasets\\df_podobno_wr.csv', encoding='utf-8', index = False)"
   ]
  },
  {
   "cell_type": "markdown",
   "metadata": {},
   "source": [
    "### а-ля"
   ]
  },
  {
   "cell_type": "code",
   "execution_count": 25,
   "metadata": {},
   "outputs": [],
   "source": [
    "df_ala_wr = pd.read_excel('written_corpora_rand_a-la.xlsx')"
   ]
  },
  {
   "cell_type": "code",
   "execution_count": 26,
   "metadata": {},
   "outputs": [],
   "source": [
    "df_ala_wr = df_ala_wr.drop(['Reversed left context', 'Reversed center', 'Punct', 'Title', 'Author', 'Birthday', 'Header', 'Ambiguity', 'Medium', 'Topic', 'Publication', 'Publ_year'], axis=1)"
   ]
  },
  {
   "cell_type": "code",
   "execution_count": 27,
   "metadata": {},
   "outputs": [
    {
     "data": {
      "text/plain": [
       "(379, 7)"
      ]
     },
     "execution_count": 27,
     "metadata": {},
     "output_type": "execute_result"
    }
   ],
   "source": [
    "df_ala_wr.shape"
   ]
  },
  {
   "cell_type": "code",
   "execution_count": 28,
   "metadata": {},
   "outputs": [],
   "source": [
    "df_ala_wr['Left_context_POS'] = ''\n",
    "\n",
    "for i, text in enumerate(df_ala_wr['Left context']):\n",
    "    try:\n",
    "        words = [word.strip(punctuation) for word in text.split() if word not in punctuation]\n",
    "        p = morph.parse(words[-1])[0]\n",
    "        tag_info = str(p.tag)[:4]\n",
    "        df_ala_wr['Left_context_POS'][i] = tag_info\n",
    "        \n",
    "    except:\n",
    "        continue"
   ]
  },
  {
   "cell_type": "code",
   "execution_count": 29,
   "metadata": {},
   "outputs": [],
   "source": [
    "df_ala_wr['Left_context_POS'].replace('', np.nan, inplace=True)\n",
    "#df_ala_wr['Left_context_POS'].fillna(np.nan, inplace=True)"
   ]
  },
  {
   "cell_type": "code",
   "execution_count": 30,
   "metadata": {},
   "outputs": [],
   "source": [
    "df_ala_wr['Right_context_POS'] = ''\n",
    "\n",
    "for i, text in enumerate(df_ala_wr['Right context']):\n",
    "    try:\n",
    "        words = [word.strip(punctuation) for word in text.split() if word not in punctuation]\n",
    "        p = morph.parse(words[0])[0]\n",
    "        tag_info = str(p.tag)[:4]\n",
    "        df_ala_wr['Right_context_POS'][i] = tag_info\n",
    "\n",
    "        \n",
    "    except:\n",
    "        continue"
   ]
  },
  {
   "cell_type": "code",
   "execution_count": 31,
   "metadata": {},
   "outputs": [],
   "source": [
    "df_ala_wr['Right_context_POS'].replace('', np.nan, inplace=True)\n",
    "#df_ala_wr['Right_context_POS'].fillna(np.nan, inplace=True)"
   ]
  },
  {
   "cell_type": "code",
   "execution_count": 32,
   "metadata": {},
   "outputs": [],
   "source": [
    "for i, text in enumerate(df_ala_wr['Sphere']):\n",
    "    df_ala_wr['Sphere'][i] = text.split(',')[0]"
   ]
  },
  {
   "cell_type": "code",
   "execution_count": 33,
   "metadata": {},
   "outputs": [
    {
     "data": {
      "text/html": [
       "<div>\n",
       "<style scoped>\n",
       "    .dataframe tbody tr th:only-of-type {\n",
       "        vertical-align: middle;\n",
       "    }\n",
       "\n",
       "    .dataframe tbody tr th {\n",
       "        vertical-align: top;\n",
       "    }\n",
       "\n",
       "    .dataframe thead th {\n",
       "        text-align: right;\n",
       "    }\n",
       "</style>\n",
       "<table border=\"1\" class=\"dataframe\">\n",
       "  <thead>\n",
       "    <tr style=\"text-align: right;\">\n",
       "      <th></th>\n",
       "      <th>Left context</th>\n",
       "      <th>Center</th>\n",
       "      <th>Right context</th>\n",
       "      <th>Created</th>\n",
       "      <th>Sphere</th>\n",
       "      <th>Type</th>\n",
       "      <th>Full context</th>\n",
       "      <th>Left_context_POS</th>\n",
       "      <th>Right_context_POS</th>\n",
       "    </tr>\n",
       "  </thead>\n",
       "  <tbody>\n",
       "    <tr>\n",
       "      <td>0</td>\n",
       "      <td>дополняющее тёмные усы и эспаньолку</td>\n",
       "      <td>а-ля</td>\n",
       "      <td>Анри катр\", ― типичного монпарнасского интелле...</td>\n",
       "      <td>2010</td>\n",
       "      <td>художественная</td>\n",
       "      <td>повесть</td>\n",
       "      <td>мягким козырьком вроде той, которую так недолг...</td>\n",
       "      <td>NOUN</td>\n",
       "      <td>NOUN</td>\n",
       "    </tr>\n",
       "    <tr>\n",
       "      <td>1</td>\n",
       "      <td>неё были хорошо причёсанные волосы</td>\n",
       "      <td>а-ля</td>\n",
       "      <td>директуар, а глаза были отнюдь не</td>\n",
       "      <td>2010</td>\n",
       "      <td>художественная</td>\n",
       "      <td>повесть</td>\n",
       "      <td>Судя по портретам, у неё были хорошо причёсанн...</td>\n",
       "      <td>NOUN</td>\n",
       "      <td>NOUN</td>\n",
       "    </tr>\n",
       "    <tr>\n",
       "      <td>2</td>\n",
       "      <td>с шапкой кудрявых волос, причёсанных</td>\n",
       "      <td>а-ля</td>\n",
       "      <td>Титус, по крайней мере в юности.</td>\n",
       "      <td>2010</td>\n",
       "      <td>художественная</td>\n",
       "      <td>повесть</td>\n",
       "      <td>При маленьком росте ключик был коренаст, крепо...</td>\n",
       "      <td>PRTF</td>\n",
       "      <td>NOUN</td>\n",
       "    </tr>\n",
       "  </tbody>\n",
       "</table>\n",
       "</div>"
      ],
      "text/plain": [
       "                           Left context  Center  \\\n",
       "0   дополняющее тёмные усы и эспаньолку   а-ля    \n",
       "1    неё были хорошо причёсанные волосы   а-ля    \n",
       "2  с шапкой кудрявых волос, причёсанных   а-ля    \n",
       "\n",
       "                                       Right context Created          Sphere  \\\n",
       "0  Анри катр\", ― типичного монпарнасского интелле...    2010  художественная   \n",
       "1                 директуар, а глаза были отнюдь не     2010  художественная   \n",
       "2                   Титус, по крайней мере в юности.    2010  художественная   \n",
       "\n",
       "      Type                                       Full context  \\\n",
       "0  повесть  мягким козырьком вроде той, которую так недолг...   \n",
       "1  повесть  Судя по портретам, у неё были хорошо причёсанн...   \n",
       "2  повесть  При маленьком росте ключик был коренаст, крепо...   \n",
       "\n",
       "  Left_context_POS Right_context_POS  \n",
       "0             NOUN              NOUN  \n",
       "1             NOUN              NOUN  \n",
       "2             PRTF              NOUN  "
      ]
     },
     "execution_count": 33,
     "metadata": {},
     "output_type": "execute_result"
    }
   ],
   "source": [
    "df_ala_wr.head(3)"
   ]
  },
  {
   "cell_type": "code",
   "execution_count": 34,
   "metadata": {},
   "outputs": [],
   "source": [
    "df_ala_wr.to_csv(r'C:\\Users\\User\\Desktop\\r project\\datasets\\df_ala_wr.csv', encoding='utf-8', index = False)"
   ]
  },
  {
   "cell_type": "markdown",
   "metadata": {},
   "source": [
    "### аки"
   ]
  },
  {
   "cell_type": "code",
   "execution_count": 35,
   "metadata": {},
   "outputs": [],
   "source": [
    "df_aki_wr = pd.read_excel('written_corpora_rand_aki.xlsx')"
   ]
  },
  {
   "cell_type": "code",
   "execution_count": 36,
   "metadata": {},
   "outputs": [],
   "source": [
    "df_aki_wr = df_aki_wr.drop(['Reversed left context', 'Reversed center', 'Punct', 'Title', 'Author', 'Birthday', 'Header', 'Ambiguity', 'Medium', 'Topic', 'Publication', 'Publ_year'], axis=1)"
   ]
  },
  {
   "cell_type": "code",
   "execution_count": 37,
   "metadata": {},
   "outputs": [
    {
     "data": {
      "text/plain": [
       "(511, 7)"
      ]
     },
     "execution_count": 37,
     "metadata": {},
     "output_type": "execute_result"
    }
   ],
   "source": [
    "df_aki_wr.shape"
   ]
  },
  {
   "cell_type": "code",
   "execution_count": 38,
   "metadata": {},
   "outputs": [],
   "source": [
    "df_aki_wr['Left_context_POS'] = ''\n",
    "\n",
    "for i, text in enumerate(df_aki_wr['Left context']):\n",
    "    try:\n",
    "        words = [word.strip(punctuation) for word in text.split() if word not in punctuation]\n",
    "        p = morph.parse(words[-1])[0]\n",
    "        tag_info = str(p.tag)[:4]\n",
    "        df_aki_wr['Left_context_POS'][i] = tag_info\n",
    "        \n",
    "    except:\n",
    "        continue"
   ]
  },
  {
   "cell_type": "code",
   "execution_count": 39,
   "metadata": {},
   "outputs": [],
   "source": [
    "df_aki_wr['Left_context_POS'].replace('', np.nan, inplace=True)\n",
    "#df_aki_wr['Left_context_POS'].fillna(np.nan, inplace=True)"
   ]
  },
  {
   "cell_type": "code",
   "execution_count": 40,
   "metadata": {},
   "outputs": [],
   "source": [
    "df_aki_wr['Right_context_POS'] = ''\n",
    "\n",
    "for i, text in enumerate(df_aki_wr['Right context']):\n",
    "    try:\n",
    "        words = [word.strip(punctuation) for word in text.split() if word not in punctuation]\n",
    "        p = morph.parse(words[0])[0]\n",
    "        tag_info = str(p.tag)[:4]\n",
    "        df_aki_wr['Right_context_POS'][i] = tag_info\n",
    "\n",
    "        \n",
    "    except:\n",
    "        continue"
   ]
  },
  {
   "cell_type": "code",
   "execution_count": 41,
   "metadata": {},
   "outputs": [],
   "source": [
    "df_aki_wr['Right_context_POS'].replace('', np.nan, inplace=True)\n",
    "#df_aki_wr['Right_context_POS'].fillna(np.nan, inplace=True)"
   ]
  },
  {
   "cell_type": "code",
   "execution_count": 42,
   "metadata": {},
   "outputs": [],
   "source": [
    "for i, text in enumerate(df_ala_wr['Sphere']):\n",
    "    df_aki_wr['Sphere'][i] = text.split(',')[0]"
   ]
  },
  {
   "cell_type": "code",
   "execution_count": 43,
   "metadata": {},
   "outputs": [
    {
     "data": {
      "text/html": [
       "<div>\n",
       "<style scoped>\n",
       "    .dataframe tbody tr th:only-of-type {\n",
       "        vertical-align: middle;\n",
       "    }\n",
       "\n",
       "    .dataframe tbody tr th {\n",
       "        vertical-align: top;\n",
       "    }\n",
       "\n",
       "    .dataframe thead th {\n",
       "        text-align: right;\n",
       "    }\n",
       "</style>\n",
       "<table border=\"1\" class=\"dataframe\">\n",
       "  <thead>\n",
       "    <tr style=\"text-align: right;\">\n",
       "      <th></th>\n",
       "      <th>Left context</th>\n",
       "      <th>Center</th>\n",
       "      <th>Right context</th>\n",
       "      <th>Created</th>\n",
       "      <th>Sphere</th>\n",
       "      <th>Type</th>\n",
       "      <th>Full context</th>\n",
       "      <th>Left_context_POS</th>\n",
       "      <th>Right_context_POS</th>\n",
       "    </tr>\n",
       "  </thead>\n",
       "  <tbody>\n",
       "    <tr>\n",
       "      <td>0</td>\n",
       "      <td>Аще же приставить себе</td>\n",
       "      <td>аки</td>\n",
       "      <td>крылья деревянны, противу естества творит.</td>\n",
       "      <td>1996</td>\n",
       "      <td>художественная</td>\n",
       "      <td>роман</td>\n",
       "      <td>Аще же приставить себе аки крылья деревянны, п...</td>\n",
       "      <td>NPRO</td>\n",
       "      <td>NOUN</td>\n",
       "    </tr>\n",
       "    <tr>\n",
       "      <td>1</td>\n",
       "      <td>А выдумку,</td>\n",
       "      <td>аки</td>\n",
       "      <td>дьявольскою помощью снаряженную, после божеств...</td>\n",
       "      <td>1996</td>\n",
       "      <td>художественная</td>\n",
       "      <td>роман</td>\n",
       "      <td>А выдумку, аки дьявольскою помощью снаряженную...</td>\n",
       "      <td>NOUN</td>\n",
       "      <td>ADJF</td>\n",
       "    </tr>\n",
       "    <tr>\n",
       "      <td>2</td>\n",
       "      <td>NaN</td>\n",
       "      <td>аки</td>\n",
       "      <td>Григорий Богослов” ( до груди, « густа и</td>\n",
       "      <td>2001</td>\n",
       "      <td>художественная</td>\n",
       "      <td>роман</td>\n",
       "      <td>аки Григорий Богослов” ( до груди, « густа и ш...</td>\n",
       "      <td>NaN</td>\n",
       "      <td>NOUN</td>\n",
       "    </tr>\n",
       "  </tbody>\n",
       "</table>\n",
       "</div>"
      ],
      "text/plain": [
       "             Left context Center  \\\n",
       "0  Аще же приставить себе   аки    \n",
       "1              А выдумку,   аки    \n",
       "2                     NaN   аки    \n",
       "\n",
       "                                       Right context Created          Sphere  \\\n",
       "0         крылья деревянны, противу естества творит.    1996  художественная   \n",
       "1  дьявольскою помощью снаряженную, после божеств...    1996  художественная   \n",
       "2          Григорий Богослов” ( до груди, « густа и     2001  художественная   \n",
       "\n",
       "    Type                                       Full context Left_context_POS  \\\n",
       "0  роман  Аще же приставить себе аки крылья деревянны, п...             NPRO   \n",
       "1  роман  А выдумку, аки дьявольскою помощью снаряженную...             NOUN   \n",
       "2  роман  аки Григорий Богослов” ( до груди, « густа и ш...              NaN   \n",
       "\n",
       "  Right_context_POS  \n",
       "0              NOUN  \n",
       "1              ADJF  \n",
       "2              NOUN  "
      ]
     },
     "execution_count": 43,
     "metadata": {},
     "output_type": "execute_result"
    }
   ],
   "source": [
    "df_aki_wr.head(3)"
   ]
  },
  {
   "cell_type": "code",
   "execution_count": 44,
   "metadata": {},
   "outputs": [],
   "source": [
    "df_aki_wr.to_csv(r'C:\\Users\\User\\Desktop\\r project\\datasets\\df_aki_wr.csv', encoding='utf-8', index = False)"
   ]
  },
  {
   "cell_type": "markdown",
   "metadata": {},
   "source": [
    "### словно"
   ]
  },
  {
   "cell_type": "code",
   "execution_count": 217,
   "metadata": {},
   "outputs": [],
   "source": [
    "df_slovno_wr = pd.read_excel(path+'slovno.xlsx')"
   ]
  },
  {
   "cell_type": "code",
   "execution_count": 218,
   "metadata": {},
   "outputs": [],
   "source": [
    "df_slovno_wr = df_slovno_wr.sample(500)\n",
    "df_slovno_wr = df_slovno_wr.reset_index(drop=True)"
   ]
  },
  {
   "cell_type": "code",
   "execution_count": 219,
   "metadata": {},
   "outputs": [],
   "source": [
    "df_slovno_wr = df_slovno_wr.drop(['Reversed left context', 'Reversed center', 'Punct', 'Title', 'Author', 'Birthday', 'Header', 'Ambiguity', 'Medium', 'Topic', 'Publication', 'Publ_year'], axis=1)"
   ]
  },
  {
   "cell_type": "code",
   "execution_count": 220,
   "metadata": {},
   "outputs": [
    {
     "data": {
      "text/plain": [
       "(500, 7)"
      ]
     },
     "execution_count": 220,
     "metadata": {},
     "output_type": "execute_result"
    }
   ],
   "source": [
    "df_slovno_wr.shape"
   ]
  },
  {
   "cell_type": "code",
   "execution_count": 221,
   "metadata": {},
   "outputs": [],
   "source": [
    "df_slovno_wr['Left_context_POS'] = ''\n",
    "\n",
    "for i, text in enumerate(df_slovno_wr['Left context']):\n",
    "    try:\n",
    "        words = [word.strip(punctuation) for word in text.split() if word not in punctuation]\n",
    "        p = morph.parse(words[-1])[0]\n",
    "        tag_info = str(p.tag)[:4]\n",
    "        df_slovno_wr['Left_context_POS'][i] = tag_info\n",
    "        \n",
    "    except:\n",
    "        continue"
   ]
  },
  {
   "cell_type": "code",
   "execution_count": 222,
   "metadata": {},
   "outputs": [],
   "source": [
    "df_slovno_wr['Left_context_POS'].replace('', np.nan, inplace=True)\n",
    "#df_slovno_wr['Left_context_POS'].fillna(np.nan, inplace=True)"
   ]
  },
  {
   "cell_type": "code",
   "execution_count": 223,
   "metadata": {},
   "outputs": [],
   "source": [
    "df_slovno_wr['Right_context_POS'] = ''\n",
    "\n",
    "for i, text in enumerate(df_slovno_wr['Right context']):\n",
    "    try:\n",
    "        words = [word.strip(punctuation) for word in text.split() if word not in punctuation]\n",
    "        p = morph.parse(words[0])[0]\n",
    "        tag_info = str(p.tag)[:4]\n",
    "        df_slovno_wr['Right_context_POS'][i] = tag_info\n",
    "\n",
    "        \n",
    "    except:\n",
    "        continue"
   ]
  },
  {
   "cell_type": "code",
   "execution_count": 224,
   "metadata": {},
   "outputs": [],
   "source": [
    "df_slovno_wr['Right_context_POS'].replace('', np.nan, inplace=True)\n",
    "#df_slovno_wr['Right_context_POS'].fillna(np.nan, inplace=True)"
   ]
  },
  {
   "cell_type": "code",
   "execution_count": 226,
   "metadata": {},
   "outputs": [],
   "source": [
    "for i, text in enumerate(df_slovno_wr['Sphere']):\n",
    "    df_slovno_wr['Sphere'][i] = text.split(',')[0]"
   ]
  },
  {
   "cell_type": "code",
   "execution_count": 227,
   "metadata": {},
   "outputs": [
    {
     "data": {
      "text/html": [
       "<div>\n",
       "<style scoped>\n",
       "    .dataframe tbody tr th:only-of-type {\n",
       "        vertical-align: middle;\n",
       "    }\n",
       "\n",
       "    .dataframe tbody tr th {\n",
       "        vertical-align: top;\n",
       "    }\n",
       "\n",
       "    .dataframe thead th {\n",
       "        text-align: right;\n",
       "    }\n",
       "</style>\n",
       "<table border=\"1\" class=\"dataframe\">\n",
       "  <thead>\n",
       "    <tr style=\"text-align: right;\">\n",
       "      <th></th>\n",
       "      <th>Left context</th>\n",
       "      <th>Center</th>\n",
       "      <th>Right context</th>\n",
       "      <th>Created</th>\n",
       "      <th>Sphere</th>\n",
       "      <th>Type</th>\n",
       "      <th>Full context</th>\n",
       "      <th>Left_context_POS</th>\n",
       "      <th>Right_context_POS</th>\n",
       "    </tr>\n",
       "  </thead>\n",
       "  <tbody>\n",
       "    <tr>\n",
       "      <th>0</th>\n",
       "      <td>а глаза мечтательные этакие и</td>\n",
       "      <td>словно</td>\n",
       "      <td>как бы с поволокою.</td>\n",
       "      <td>1900</td>\n",
       "      <td>художественная</td>\n",
       "      <td>рассказ</td>\n",
       "      <td>Еще больше его ввысь вытянуло, худой стал, бар...</td>\n",
       "      <td>CONJ</td>\n",
       "      <td>CONJ</td>\n",
       "    </tr>\n",
       "    <tr>\n",
       "      <th>1</th>\n",
       "      <td>полз чей-то заглушенный голос и</td>\n",
       "      <td>словно</td>\n",
       "      <td>обволакивал мозг грязной мутью:</td>\n",
       "      <td>1921</td>\n",
       "      <td>нехудожественная</td>\n",
       "      <td>очерк, цикл</td>\n",
       "      <td>А из-за земляной стены, где было убежище, полз...</td>\n",
       "      <td>CONJ</td>\n",
       "      <td>VERB</td>\n",
       "    </tr>\n",
       "    <tr>\n",
       "      <th>2</th>\n",
       "      <td>приступа, беглец Кази- мулла отправился,</td>\n",
       "      <td>словно</td>\n",
       "      <td>победитель, праздновать свою свадьбу с Кюрек,</td>\n",
       "      <td>1831</td>\n",
       "      <td>художественная</td>\n",
       "      <td>письмо литературное, повесть</td>\n",
       "      <td>Между тем как избавленные от осады дербентцы т...</td>\n",
       "      <td>VERB</td>\n",
       "      <td>NOUN</td>\n",
       "    </tr>\n",
       "  </tbody>\n",
       "</table>\n",
       "</div>"
      ],
      "text/plain": [
       "                               Left context    Center  \\\n",
       "0             а глаза мечтательные этакие и   словно    \n",
       "1           полз чей-то заглушенный голос и   словно    \n",
       "2  приступа, беглец Кази- мулла отправился,   словно    \n",
       "\n",
       "                                    Right context Created            Sphere  \\\n",
       "0                             как бы с поволокою.    1900    художественная   \n",
       "1              обволакивал мозг грязной мутью:       1921  нехудожественная   \n",
       "2  победитель, праздновать свою свадьбу с Кюрек,     1831    художественная   \n",
       "\n",
       "                           Type  \\\n",
       "0                       рассказ   \n",
       "1                   очерк, цикл   \n",
       "2  письмо литературное, повесть   \n",
       "\n",
       "                                        Full context Left_context_POS  \\\n",
       "0  Еще больше его ввысь вытянуло, худой стал, бар...             CONJ   \n",
       "1  А из-за земляной стены, где было убежище, полз...             CONJ   \n",
       "2  Между тем как избавленные от осады дербентцы т...             VERB   \n",
       "\n",
       "  Right_context_POS  \n",
       "0              CONJ  \n",
       "1              VERB  \n",
       "2              NOUN  "
      ]
     },
     "execution_count": 227,
     "metadata": {},
     "output_type": "execute_result"
    }
   ],
   "source": [
    "df_slovno_wr.head(3)"
   ]
  },
  {
   "cell_type": "code",
   "execution_count": 228,
   "metadata": {},
   "outputs": [],
   "source": [
    "df_slovno_wr.to_csv(r'.\\csv datasets\\df_slovno_wr.csv', encoding='utf-8', index = False)"
   ]
  },
  {
   "cell_type": "markdown",
   "metadata": {},
   "source": [
    "### будто"
   ]
  },
  {
   "cell_type": "code",
   "execution_count": 193,
   "metadata": {},
   "outputs": [],
   "source": [
    "df_budto_wr = pd.read_excel(path+'budto.xlsx')"
   ]
  },
  {
   "cell_type": "code",
   "execution_count": 194,
   "metadata": {},
   "outputs": [],
   "source": [
    "df_budto_wr = df_budto_wr.sample(500)\n",
    "df_budto_wr = df_budto_wr.reset_index(drop=True)"
   ]
  },
  {
   "cell_type": "code",
   "execution_count": 195,
   "metadata": {},
   "outputs": [],
   "source": [
    "df_budto_wr = df_budto_wr.drop(['Reversed left context', 'Reversed center', 'Punct', 'Title', 'Author', 'Birthday', 'Header', 'Ambiguity', 'Medium', 'Topic', 'Publication', 'Publ_year'], axis=1)"
   ]
  },
  {
   "cell_type": "code",
   "execution_count": 196,
   "metadata": {},
   "outputs": [
    {
     "data": {
      "text/plain": [
       "(500, 7)"
      ]
     },
     "execution_count": 196,
     "metadata": {},
     "output_type": "execute_result"
    }
   ],
   "source": [
    "df_budto_wr.shape"
   ]
  },
  {
   "cell_type": "code",
   "execution_count": 197,
   "metadata": {},
   "outputs": [],
   "source": [
    "df_budto_wr['Left_context_POS'] = ''\n",
    "\n",
    "for i, text in enumerate(df_budto_wr['Left context']):\n",
    "    try:\n",
    "        words = [word.strip(punctuation) for word in text.split() if word not in punctuation]\n",
    "        p = morph.parse(words[-1])[0]\n",
    "        tag_info = str(p.tag)[:4]\n",
    "        df_budto_wr['Left_context_POS'][i] = tag_info\n",
    "        \n",
    "    except:\n",
    "        continue"
   ]
  },
  {
   "cell_type": "code",
   "execution_count": 198,
   "metadata": {},
   "outputs": [],
   "source": [
    "df_budto_wr['Left_context_POS'].replace('', np.nan, inplace=True)\n",
    "#df_budto_wr['Left_context_POS'].fillna(np.nan, inplace=True)"
   ]
  },
  {
   "cell_type": "code",
   "execution_count": 199,
   "metadata": {},
   "outputs": [],
   "source": [
    "df_budto_wr['Right_context_POS'] = ''\n",
    "\n",
    "for i, text in enumerate(df_budto_wr['Right context']):\n",
    "    try:\n",
    "        words = [word.strip(punctuation) for word in text.split() if word not in punctuation]\n",
    "        p = morph.parse(words[0])[0]\n",
    "        tag_info = str(p.tag)[:4]\n",
    "        df_budto_wr['Right_context_POS'][i] = tag_info\n",
    "\n",
    "        \n",
    "    except:\n",
    "        continue"
   ]
  },
  {
   "cell_type": "code",
   "execution_count": 200,
   "metadata": {},
   "outputs": [],
   "source": [
    "df_budto_wr['Right_context_POS'].replace('', np.nan, inplace=True)\n",
    "#df_budto_wr['Right_context_POS'].fillna(np.nan, inplace=True)"
   ]
  },
  {
   "cell_type": "code",
   "execution_count": 201,
   "metadata": {},
   "outputs": [],
   "source": [
    "for i, text in enumerate(df_budto_wr['Sphere']):\n",
    "    df_budto_wr['Sphere'][i] = text.split(',')[0]"
   ]
  },
  {
   "cell_type": "code",
   "execution_count": 202,
   "metadata": {},
   "outputs": [
    {
     "data": {
      "text/html": [
       "<div>\n",
       "<style scoped>\n",
       "    .dataframe tbody tr th:only-of-type {\n",
       "        vertical-align: middle;\n",
       "    }\n",
       "\n",
       "    .dataframe tbody tr th {\n",
       "        vertical-align: top;\n",
       "    }\n",
       "\n",
       "    .dataframe thead th {\n",
       "        text-align: right;\n",
       "    }\n",
       "</style>\n",
       "<table border=\"1\" class=\"dataframe\">\n",
       "  <thead>\n",
       "    <tr style=\"text-align: right;\">\n",
       "      <th></th>\n",
       "      <th>Left context</th>\n",
       "      <th>Center</th>\n",
       "      <th>Right context</th>\n",
       "      <th>Created</th>\n",
       "      <th>Sphere</th>\n",
       "      <th>Type</th>\n",
       "      <th>Full context</th>\n",
       "      <th>Left_context_POS</th>\n",
       "      <th>Right_context_POS</th>\n",
       "    </tr>\n",
       "  </thead>\n",
       "  <tbody>\n",
       "    <tr>\n",
       "      <th>0</th>\n",
       "      <td>Тартыге это не приятно, ― как</td>\n",
       "      <td>будто</td>\n",
       "      <td>он провинился в чем-нибудь дурном, и</td>\n",
       "      <td>1913</td>\n",
       "      <td>художественная</td>\n",
       "      <td>рассказ</td>\n",
       "      <td>Тартыге это не приятно, ― как будто он провини...</td>\n",
       "      <td>CONJ</td>\n",
       "      <td>NPRO</td>\n",
       "    </tr>\n",
       "    <tr>\n",
       "      <th>1</th>\n",
       "      <td>они реже, ― когда она как</td>\n",
       "      <td>будто</td>\n",
       "      <td>светлела и молодела.</td>\n",
       "      <td>1862</td>\n",
       "      <td>нехудожественная</td>\n",
       "      <td>мемуары</td>\n",
       "      <td>чем далее шла жизнь, тем становились они реже,...</td>\n",
       "      <td>CONJ</td>\n",
       "      <td>VERB</td>\n",
       "    </tr>\n",
       "    <tr>\n",
       "      <th>2</th>\n",
       "      <td>Бричка</td>\n",
       "      <td>будто</td>\n",
       "      <td>замерла на миг и Велька замер</td>\n",
       "      <td>1980-1995</td>\n",
       "      <td>художественная</td>\n",
       "      <td>пьеса</td>\n",
       "      <td>Бричка будто замерла на миг и Велька замер вме...</td>\n",
       "      <td>NOUN</td>\n",
       "      <td>VERB</td>\n",
       "    </tr>\n",
       "  </tbody>\n",
       "</table>\n",
       "</div>"
      ],
      "text/plain": [
       "                    Left context   Center  \\\n",
       "0  Тартыге это не приятно, ― как   будто    \n",
       "1      они реже, ― когда она как   будто    \n",
       "2                         Бричка   будто    \n",
       "\n",
       "                           Right context    Created            Sphere  \\\n",
       "0  он провинился в чем-нибудь дурном, и        1913    художественная   \n",
       "1                   светлела и молодела.       1862  нехудожественная   \n",
       "2         замерла на миг и Велька замер   1980-1995    художественная   \n",
       "\n",
       "      Type                                       Full context  \\\n",
       "0  рассказ  Тартыге это не приятно, ― как будто он провини...   \n",
       "1  мемуары  чем далее шла жизнь, тем становились они реже,...   \n",
       "2    пьеса  Бричка будто замерла на миг и Велька замер вме...   \n",
       "\n",
       "  Left_context_POS Right_context_POS  \n",
       "0             CONJ              NPRO  \n",
       "1             CONJ              VERB  \n",
       "2             NOUN              VERB  "
      ]
     },
     "execution_count": 202,
     "metadata": {},
     "output_type": "execute_result"
    }
   ],
   "source": [
    "df_budto_wr.head(3)"
   ]
  },
  {
   "cell_type": "code",
   "execution_count": 203,
   "metadata": {},
   "outputs": [],
   "source": [
    "df_budto_wr.to_csv(r'.\\csv datasets\\df_budto_wr.csv', encoding='utf-8', index = False)"
   ]
  },
  {
   "cell_type": "markdown",
   "metadata": {},
   "source": [
    "## Устный"
   ]
  },
  {
   "cell_type": "code",
   "execution_count": 230,
   "metadata": {},
   "outputs": [],
   "source": [
    "path = \"./Spoken corpora/\""
   ]
  },
  {
   "cell_type": "markdown",
   "metadata": {},
   "source": [
    "### как"
   ]
  },
  {
   "cell_type": "code",
   "execution_count": 231,
   "metadata": {},
   "outputs": [],
   "source": [
    "df_kak_sp = pd.read_excel(path + 'kak_spoken.xlsx')"
   ]
  },
  {
   "cell_type": "code",
   "execution_count": 232,
   "metadata": {},
   "outputs": [],
   "source": [
    "df_kak_sp = df_kak_sp.sample(500)\n",
    "df_kak_sp = df_kak_sp.reset_index(drop=True)"
   ]
  },
  {
   "cell_type": "code",
   "execution_count": 233,
   "metadata": {},
   "outputs": [],
   "source": [
    "df_kak_sp = df_kak_sp.drop(['Reversed left context', 'Reversed center', 'Punct', 'Title', 'Author', 'Birthday', 'Header', 'Ambiguity', 'Medium', 'Topic', 'Publication', 'Publ_year'], axis=1)"
   ]
  },
  {
   "cell_type": "code",
   "execution_count": 234,
   "metadata": {},
   "outputs": [
    {
     "data": {
      "text/plain": [
       "(500, 7)"
      ]
     },
     "execution_count": 234,
     "metadata": {},
     "output_type": "execute_result"
    }
   ],
   "source": [
    "df_kak_sp.shape"
   ]
  },
  {
   "cell_type": "code",
   "execution_count": 235,
   "metadata": {},
   "outputs": [],
   "source": [
    "df_kak_sp['Left_context_POS'] = ''\n",
    "\n",
    "for i, text in enumerate(df_kak_sp['Left context']):\n",
    "    try:\n",
    "        words = [word.strip(punctuation) for word in text.split() if word not in punctuation]\n",
    "        p = morph.parse(words[-1])[0]\n",
    "        tag_info = str(p.tag)[:4]\n",
    "        df_kak_sp['Left_context_POS'][i] = tag_info\n",
    "        \n",
    "    except:\n",
    "        continue"
   ]
  },
  {
   "cell_type": "code",
   "execution_count": 236,
   "metadata": {},
   "outputs": [],
   "source": [
    "df_kak_sp['Left_context_POS'].replace('', np.nan, inplace=True)\n",
    "#df_kak_sp['Left_context_POS'].fillna(np.nan, inplace=True)"
   ]
  },
  {
   "cell_type": "code",
   "execution_count": 237,
   "metadata": {},
   "outputs": [],
   "source": [
    "df_kak_sp['Right_context_POS'] = ''\n",
    "\n",
    "for i, text in enumerate(df_kak_sp['Right context']):\n",
    "    try:\n",
    "        words = [word.strip(punctuation) for word in text.split() if word not in punctuation]\n",
    "        p = morph.parse(words[0])[0]\n",
    "        tag_info = str(p.tag)[:4]\n",
    "        df_kak_sp['Right_context_POS'][i] = tag_info\n",
    "\n",
    "        \n",
    "    except:\n",
    "        continue"
   ]
  },
  {
   "cell_type": "code",
   "execution_count": 238,
   "metadata": {},
   "outputs": [],
   "source": [
    "df_kak_sp['Right_context_POS'].replace('', np.nan, inplace=True)\n",
    "#df_kak_sp['Right_context_POS'].fillna(np.nan, inplace=True)"
   ]
  },
  {
   "cell_type": "code",
   "execution_count": 239,
   "metadata": {},
   "outputs": [
    {
     "data": {
      "text/html": [
       "<div>\n",
       "<style scoped>\n",
       "    .dataframe tbody tr th:only-of-type {\n",
       "        vertical-align: middle;\n",
       "    }\n",
       "\n",
       "    .dataframe tbody tr th {\n",
       "        vertical-align: top;\n",
       "    }\n",
       "\n",
       "    .dataframe thead th {\n",
       "        text-align: right;\n",
       "    }\n",
       "</style>\n",
       "<table border=\"1\" class=\"dataframe\">\n",
       "  <thead>\n",
       "    <tr style=\"text-align: right;\">\n",
       "      <th></th>\n",
       "      <th>Left context</th>\n",
       "      <th>Center</th>\n",
       "      <th>Right context</th>\n",
       "      <th>Created</th>\n",
       "      <th>Sphere</th>\n",
       "      <th>Type</th>\n",
       "      <th>Full context</th>\n",
       "      <th>Left_context_POS</th>\n",
       "      <th>Right_context_POS</th>\n",
       "    </tr>\n",
       "  </thead>\n",
       "  <tbody>\n",
       "    <tr>\n",
       "      <th>0</th>\n",
       "      <td>ту́т во́т я́ сошлю́сь на/</td>\n",
       "      <td>как</td>\n",
       "      <td>мне́ ка́жется/ наибо́лее авторите́тное мне́ние в</td>\n",
       "      <td>2010</td>\n",
       "      <td>монолог научный, устная публичная речь</td>\n",
       "      <td>лекция</td>\n",
       "      <td>И ту́т во́т я́ сошлю́сь на/ как мне́ ка́жется/...</td>\n",
       "      <td>PREP</td>\n",
       "      <td>UNKN</td>\n",
       "    </tr>\n",
       "    <tr>\n",
       "      <th>1</th>\n",
       "      <td>О́</td>\n",
       "      <td>ка́к</td>\n",
       "      <td>NaN</td>\n",
       "      <td>1978</td>\n",
       "      <td>кино</td>\n",
       "      <td>кино музыкальное, киномелодрама</td>\n",
       "      <td>О́ ка́к.   [Александр Орлов, Анатолий Степанов...</td>\n",
       "      <td>UNKN</td>\n",
       "      <td>NaN</td>\n",
       "    </tr>\n",
       "    <tr>\n",
       "      <th>2</th>\n",
       "      <td>спосо́бствовать нау́чному успе́ху экспеди́ции ...</td>\n",
       "      <td>как</td>\n",
       "      <td>уча́стники её дости́гнут А́льфа Кассиопе́и в</td>\n",
       "      <td>1973</td>\n",
       "      <td>кино</td>\n",
       "      <td>кино детское, кино приключенческое, кинофантас...</td>\n",
       "      <td>Поэ́тому я́ счита́ю целесообра́зным сформирова...</td>\n",
       "      <td>NOUN</td>\n",
       "      <td>NOUN</td>\n",
       "    </tr>\n",
       "  </tbody>\n",
       "</table>\n",
       "</div>"
      ],
      "text/plain": [
       "                                        Left context  Center  \\\n",
       "0                          ту́т во́т я́ сошлю́сь на/    как    \n",
       "1                                                 О́   ка́к    \n",
       "2  спосо́бствовать нау́чному успе́ху экспеди́ции ...    как    \n",
       "\n",
       "                                       Right context Created  \\\n",
       "0  мне́ ка́жется/ наибо́лее авторите́тное мне́ние в     2010   \n",
       "1                                                NaN    1978   \n",
       "2      уча́стники её дости́гнут А́льфа Кассиопе́и в     1973   \n",
       "\n",
       "                                   Sphere  \\\n",
       "0  монолог научный, устная публичная речь   \n",
       "1                                    кино   \n",
       "2                                    кино   \n",
       "\n",
       "                                                Type  \\\n",
       "0                                             лекция   \n",
       "1                    кино музыкальное, киномелодрама   \n",
       "2  кино детское, кино приключенческое, кинофантас...   \n",
       "\n",
       "                                        Full context Left_context_POS  \\\n",
       "0  И ту́т во́т я́ сошлю́сь на/ как мне́ ка́жется/...             PREP   \n",
       "1  О́ ка́к.   [Александр Орлов, Анатолий Степанов...             UNKN   \n",
       "2  Поэ́тому я́ счита́ю целесообра́зным сформирова...             NOUN   \n",
       "\n",
       "  Right_context_POS  \n",
       "0              UNKN  \n",
       "1               NaN  \n",
       "2              NOUN  "
      ]
     },
     "execution_count": 239,
     "metadata": {},
     "output_type": "execute_result"
    }
   ],
   "source": [
    "df_kak_sp.head(3)"
   ]
  },
  {
   "cell_type": "code",
   "execution_count": 240,
   "metadata": {},
   "outputs": [],
   "source": [
    "df_kak_sp.to_csv(r'.\\csv datasets\\df_kak_sp.csv', encoding='utf-8', index = False)"
   ]
  },
  {
   "cell_type": "markdown",
   "metadata": {},
   "source": [
    "### подобно"
   ]
  },
  {
   "cell_type": "code",
   "execution_count": 79,
   "metadata": {},
   "outputs": [],
   "source": [
    "df_podobno_sp = pd.read_excel('spoken_corpora_rand_podobno.xlsx')"
   ]
  },
  {
   "cell_type": "code",
   "execution_count": 80,
   "metadata": {},
   "outputs": [],
   "source": [
    "df_podobno_sp = df_podobno_sp.drop(['Reversed left context', 'Reversed center', 'Punct', 'Title', 'Author', 'Birthday', 'Header', 'Ambiguity', 'Medium', 'Topic', 'Publication', 'Publ_year'], axis=1)"
   ]
  },
  {
   "cell_type": "code",
   "execution_count": 81,
   "metadata": {},
   "outputs": [
    {
     "data": {
      "text/plain": [
       "(52, 7)"
      ]
     },
     "execution_count": 81,
     "metadata": {},
     "output_type": "execute_result"
    }
   ],
   "source": [
    "df_podobno_sp.shape"
   ]
  },
  {
   "cell_type": "code",
   "execution_count": 82,
   "metadata": {},
   "outputs": [],
   "source": [
    "df_podobno_sp['Left_context_POS'] = ''\n",
    "\n",
    "for i, text in enumerate(df_podobno_sp['Left context']):\n",
    "    try:\n",
    "        words = [word.strip(punctuation) for word in text.split() if word not in punctuation]\n",
    "        p = morph.parse(words[-1])[0]\n",
    "        tag_info = str(p.tag)[:4]\n",
    "        df_podobno_sp['Left_context_POS'][i] = tag_info\n",
    "        \n",
    "    except:\n",
    "        continue"
   ]
  },
  {
   "cell_type": "code",
   "execution_count": 83,
   "metadata": {},
   "outputs": [],
   "source": [
    "df_podobno_sp['Left_context_POS'].replace('', np.nan, inplace=True)\n",
    "#df_podobno_sp['Left_context_POS'].fillna(np.nan, inplace=True)"
   ]
  },
  {
   "cell_type": "code",
   "execution_count": 84,
   "metadata": {},
   "outputs": [],
   "source": [
    "df_podobno_sp['Right_context_POS'] = ''\n",
    "\n",
    "for i, text in enumerate(df_podobno_sp['Right context']):\n",
    "    try:\n",
    "        words = [word.strip(punctuation) for word in text.split() if word not in punctuation]\n",
    "        p = morph.parse(words[0])[0]\n",
    "        tag_info = str(p.tag)[:4]\n",
    "        df_podobno_sp['Right_context_POS'][i] = tag_info\n",
    "\n",
    "        \n",
    "    except:\n",
    "        continue"
   ]
  },
  {
   "cell_type": "code",
   "execution_count": 85,
   "metadata": {},
   "outputs": [],
   "source": [
    "df_podobno_sp['Right_context_POS'].replace('', np.nan, inplace=True)\n",
    "#df_podobno_sp['Right_context_POS'].fillna(np.nan, inplace=True)"
   ]
  },
  {
   "cell_type": "code",
   "execution_count": 86,
   "metadata": {},
   "outputs": [
    {
     "data": {
      "text/html": [
       "<div>\n",
       "<style scoped>\n",
       "    .dataframe tbody tr th:only-of-type {\n",
       "        vertical-align: middle;\n",
       "    }\n",
       "\n",
       "    .dataframe tbody tr th {\n",
       "        vertical-align: top;\n",
       "    }\n",
       "\n",
       "    .dataframe thead th {\n",
       "        text-align: right;\n",
       "    }\n",
       "</style>\n",
       "<table border=\"1\" class=\"dataframe\">\n",
       "  <thead>\n",
       "    <tr style=\"text-align: right;\">\n",
       "      <th></th>\n",
       "      <th>Left context</th>\n",
       "      <th>Center</th>\n",
       "      <th>Right context</th>\n",
       "      <th>Created</th>\n",
       "      <th>Sphere</th>\n",
       "      <th>Type</th>\n",
       "      <th>Full context</th>\n",
       "      <th>Left_context_POS</th>\n",
       "      <th>Right_context_POS</th>\n",
       "    </tr>\n",
       "  </thead>\n",
       "  <tbody>\n",
       "    <tr>\n",
       "      <td>0</td>\n",
       "      <td>конь\" / iva / \" как / как бы /</td>\n",
       "      <td>подобно</td>\n",
       "      <td>NaN</td>\n",
       "      <td>2003</td>\n",
       "      <td>кино, нехудожественная</td>\n",
       "      <td>кинодрама, экранизация</td>\n",
       "      <td>aSva / это \" конь\" / iva / \" как / как бы / по...</td>\n",
       "      <td>PRCL</td>\n",
       "      <td>NaN</td>\n",
       "    </tr>\n",
       "    <tr>\n",
       "      <td>1</td>\n",
       "      <td>прошу́ / прекрати́те / э́то же… сме́рти</td>\n",
       "      <td>подо́бно</td>\n",
       "      <td>NaN</td>\n",
       "      <td>1980</td>\n",
       "      <td>кино, нехудожественная</td>\n",
       "      <td>кинодрама, кинокомедия</td>\n",
       "      <td>Я́ ва́с прошу́ / прекрати́те / э́то же… сме́рт...</td>\n",
       "      <td>VERB</td>\n",
       "      <td>NaN</td>\n",
       "    </tr>\n",
       "    <tr>\n",
       "      <td>2</td>\n",
       "      <td>и если будет создано что-то</td>\n",
       "      <td>подобно</td>\n",
       "      <td>военного блока между нами и Китаем /</td>\n",
       "      <td>1979</td>\n",
       "      <td>кино, нехудожественная</td>\n",
       "      <td>кинодрама</td>\n",
       "      <td>Я например считаю / что ехать нужно только с т...</td>\n",
       "      <td>NPRO</td>\n",
       "      <td>NOUN</td>\n",
       "    </tr>\n",
       "  </tbody>\n",
       "</table>\n",
       "</div>"
      ],
      "text/plain": [
       "                              Left context      Center  \\\n",
       "0           конь\" / iva / \" как / как бы /    подобно    \n",
       "1  прошу́ / прекрати́те / э́то же… сме́рти   подо́бно    \n",
       "2              и если будет создано что-то    подобно    \n",
       "\n",
       "                           Right context Created                  Sphere  \\\n",
       "0                                    NaN    2003  кино, нехудожественная   \n",
       "1                                    NaN    1980  кино, нехудожественная   \n",
       "2  военного блока между нами и Китаем /     1979  кино, нехудожественная   \n",
       "\n",
       "                     Type                                       Full context  \\\n",
       "0  кинодрама, экранизация  aSva / это \" конь\" / iva / \" как / как бы / по...   \n",
       "1  кинодрама, кинокомедия  Я́ ва́с прошу́ / прекрати́те / э́то же… сме́рт...   \n",
       "2               кинодрама  Я например считаю / что ехать нужно только с т...   \n",
       "\n",
       "  Left_context_POS Right_context_POS  \n",
       "0             PRCL               NaN  \n",
       "1             VERB               NaN  \n",
       "2             NPRO              NOUN  "
      ]
     },
     "execution_count": 86,
     "metadata": {},
     "output_type": "execute_result"
    }
   ],
   "source": [
    "df_podobno_sp.head(3)"
   ]
  },
  {
   "cell_type": "code",
   "execution_count": 87,
   "metadata": {},
   "outputs": [],
   "source": [
    "df_podobno_sp.to_csv(r'C:\\Users\\User\\Desktop\\r project\\datasets\\df_podobno_sp.csv', encoding='utf-8', index = False)"
   ]
  },
  {
   "cell_type": "markdown",
   "metadata": {},
   "source": [
    "### а-ля"
   ]
  },
  {
   "cell_type": "code",
   "execution_count": 88,
   "metadata": {},
   "outputs": [],
   "source": [
    "df_ala_sp = pd.read_excel('spoken_corpora_rand_a-la.xlsx')"
   ]
  },
  {
   "cell_type": "code",
   "execution_count": 89,
   "metadata": {},
   "outputs": [],
   "source": [
    "df_ala_sp = df_ala_sp.drop(['Reversed left context', 'Reversed center', 'Punct', 'Title', 'Author', 'Birthday', 'Header', 'Ambiguity', 'Medium', 'Topic', 'Publication', 'Publ_year'], axis=1)"
   ]
  },
  {
   "cell_type": "code",
   "execution_count": 90,
   "metadata": {},
   "outputs": [
    {
     "data": {
      "text/plain": [
       "(23, 7)"
      ]
     },
     "execution_count": 90,
     "metadata": {},
     "output_type": "execute_result"
    }
   ],
   "source": [
    "df_ala_sp.shape"
   ]
  },
  {
   "cell_type": "code",
   "execution_count": 91,
   "metadata": {},
   "outputs": [
    {
     "name": "stderr",
     "output_type": "stream",
     "text": [
      "C:\\Users\\User\\Anaconda3\\lib\\site-packages\\ipykernel_launcher.py:8: SettingWithCopyWarning: \n",
      "A value is trying to be set on a copy of a slice from a DataFrame\n",
      "\n",
      "See the caveats in the documentation: http://pandas.pydata.org/pandas-docs/stable/user_guide/indexing.html#returning-a-view-versus-a-copy\n",
      "  \n"
     ]
    }
   ],
   "source": [
    "df_ala_sp['Left_context_POS'] = ''\n",
    "\n",
    "for i, text in enumerate(df_ala_sp['Left context']):\n",
    "    try:\n",
    "        words = [word.strip(punctuation) for word in text.split() if word not in punctuation]\n",
    "        p = morph.parse(words[-1])[0]\n",
    "        tag_info = str(p.tag)[:4]\n",
    "        df_ala_sp['Left_context_POS'][i] = tag_info\n",
    "        \n",
    "    except:\n",
    "        continue"
   ]
  },
  {
   "cell_type": "code",
   "execution_count": 92,
   "metadata": {},
   "outputs": [],
   "source": [
    "df_ala_sp['Left_context_POS'].replace('', np.nan, inplace=True)\n",
    "#df_ala_sp['Left_context_POS'].fillna(np.nan, inplace=True)"
   ]
  },
  {
   "cell_type": "code",
   "execution_count": 93,
   "metadata": {},
   "outputs": [
    {
     "name": "stderr",
     "output_type": "stream",
     "text": [
      "C:\\Users\\User\\Anaconda3\\lib\\site-packages\\ipykernel_launcher.py:8: SettingWithCopyWarning: \n",
      "A value is trying to be set on a copy of a slice from a DataFrame\n",
      "\n",
      "See the caveats in the documentation: http://pandas.pydata.org/pandas-docs/stable/user_guide/indexing.html#returning-a-view-versus-a-copy\n",
      "  \n"
     ]
    }
   ],
   "source": [
    "df_ala_sp['Right_context_POS'] = ''\n",
    "\n",
    "for i, text in enumerate(df_ala_sp['Right context']):\n",
    "    try:\n",
    "        words = [word.strip(punctuation) for word in text.split() if word not in punctuation]\n",
    "        p = morph.parse(words[0])[0]\n",
    "        tag_info = str(p.tag)[:4]\n",
    "        df_ala_sp['Right_context_POS'][i] = tag_info\n",
    "\n",
    "        \n",
    "    except:\n",
    "        continue"
   ]
  },
  {
   "cell_type": "code",
   "execution_count": 94,
   "metadata": {},
   "outputs": [],
   "source": [
    "df_ala_sp['Right_context_POS'].replace('', np.nan, inplace=True)\n",
    "#df_ala_sp['Right_context_POS'].fillna(np.nan, inplace=True)"
   ]
  },
  {
   "cell_type": "code",
   "execution_count": 95,
   "metadata": {},
   "outputs": [
    {
     "data": {
      "text/html": [
       "<div>\n",
       "<style scoped>\n",
       "    .dataframe tbody tr th:only-of-type {\n",
       "        vertical-align: middle;\n",
       "    }\n",
       "\n",
       "    .dataframe tbody tr th {\n",
       "        vertical-align: top;\n",
       "    }\n",
       "\n",
       "    .dataframe thead th {\n",
       "        text-align: right;\n",
       "    }\n",
       "</style>\n",
       "<table border=\"1\" class=\"dataframe\">\n",
       "  <thead>\n",
       "    <tr style=\"text-align: right;\">\n",
       "      <th></th>\n",
       "      <th>Left context</th>\n",
       "      <th>Center</th>\n",
       "      <th>Right context</th>\n",
       "      <th>Created</th>\n",
       "      <th>Sphere</th>\n",
       "      <th>Type</th>\n",
       "      <th>Full context</th>\n",
       "      <th>Left_context_POS</th>\n",
       "      <th>Right_context_POS</th>\n",
       "    </tr>\n",
       "  </thead>\n",
       "  <tbody>\n",
       "    <tr>\n",
       "      <td>0</td>\n",
       "      <td>никто́ не бу́дет вести́ до́лгий</td>\n",
       "      <td>а́-ля́</td>\n",
       "      <td>NaN</td>\n",
       "      <td>2019</td>\n",
       "      <td>нехудожественная, устная непубличная речь</td>\n",
       "      <td>домашний, разговор</td>\n",
       "      <td>С тобо́й никто́ не бу́дет вести́ до́лгий а́-ля...</td>\n",
       "      <td>NOUN</td>\n",
       "      <td>NaN</td>\n",
       "    </tr>\n",
       "    <tr>\n",
       "      <td>1</td>\n",
       "      <td>Ну да́/ та́м своя́ каните́ль.</td>\n",
       "      <td>а́-ля́</td>\n",
       "      <td>задуше́вные бесе́ды.</td>\n",
       "      <td>2019</td>\n",
       "      <td>нехудожественная, устная непубличная речь</td>\n",
       "      <td>домашний, разговор</td>\n",
       "      <td>Ну да́/ та́м своя́ каните́ль. а́-ля́ задуше́вн...</td>\n",
       "      <td>NOUN</td>\n",
       "      <td>ADJF</td>\n",
       "    </tr>\n",
       "    <tr>\n",
       "      <td>2</td>\n",
       "      <td>шесто́го го́да а́а ну та́м</td>\n",
       "      <td>а́-ля́</td>\n",
       "      <td>путеводи́тель по Краснодо́ну/ и вот та́м</td>\n",
       "      <td>2019</td>\n",
       "      <td>нехудожественная, устная непубличная речь</td>\n",
       "      <td>домашний, разговор</td>\n",
       "      <td>Еди́нственное/ что́ я́ нашла́― э́то а́а во́сем...</td>\n",
       "      <td>NOUN</td>\n",
       "      <td>NOUN</td>\n",
       "    </tr>\n",
       "  </tbody>\n",
       "</table>\n",
       "</div>"
      ],
      "text/plain": [
       "                      Left context    Center  \\\n",
       "0  никто́ не бу́дет вести́ до́лгий   а́-ля́    \n",
       "1    Ну да́/ та́м своя́ каните́ль.   а́-ля́    \n",
       "2       шесто́го го́да а́а ну та́м   а́-ля́    \n",
       "\n",
       "                               Right context  Created  \\\n",
       "0                                        NaN     2019   \n",
       "1                       задуше́вные бесе́ды.     2019   \n",
       "2  путеводи́тель по Краснодо́ну/ и вот та́м      2019   \n",
       "\n",
       "                                      Sphere                Type  \\\n",
       "0  нехудожественная, устная непубличная речь  домашний, разговор   \n",
       "1  нехудожественная, устная непубличная речь  домашний, разговор   \n",
       "2  нехудожественная, устная непубличная речь  домашний, разговор   \n",
       "\n",
       "                                        Full context Left_context_POS  \\\n",
       "0  С тобо́й никто́ не бу́дет вести́ до́лгий а́-ля...             NOUN   \n",
       "1  Ну да́/ та́м своя́ каните́ль. а́-ля́ задуше́вн...             NOUN   \n",
       "2  Еди́нственное/ что́ я́ нашла́― э́то а́а во́сем...             NOUN   \n",
       "\n",
       "  Right_context_POS  \n",
       "0               NaN  \n",
       "1              ADJF  \n",
       "2              NOUN  "
      ]
     },
     "execution_count": 95,
     "metadata": {},
     "output_type": "execute_result"
    }
   ],
   "source": [
    "df_ala_sp.head(3)"
   ]
  },
  {
   "cell_type": "code",
   "execution_count": 96,
   "metadata": {},
   "outputs": [],
   "source": [
    "df_ala_sp.to_csv(r'C:\\Users\\User\\Desktop\\r project\\datasets\\df_ala_sp.csv', encoding='utf-8', index = False)"
   ]
  },
  {
   "cell_type": "markdown",
   "metadata": {},
   "source": [
    "### аки"
   ]
  },
  {
   "cell_type": "code",
   "execution_count": 97,
   "metadata": {},
   "outputs": [],
   "source": [
    "df_aki_sp = pd.read_excel('spoken_corpora_rand_aki.xlsx')"
   ]
  },
  {
   "cell_type": "code",
   "execution_count": 98,
   "metadata": {},
   "outputs": [],
   "source": [
    "df_aki_sp = df_aki_sp.drop(['Reversed left context', 'Reversed center', 'Punct', 'Title', 'Author', 'Birthday', 'Header', 'Ambiguity', 'Medium', 'Topic', 'Publication', 'Publ_year'], axis=1)"
   ]
  },
  {
   "cell_type": "code",
   "execution_count": 99,
   "metadata": {},
   "outputs": [
    {
     "data": {
      "text/plain": [
       "(11, 7)"
      ]
     },
     "execution_count": 99,
     "metadata": {},
     "output_type": "execute_result"
    }
   ],
   "source": [
    "df_aki_sp.shape"
   ]
  },
  {
   "cell_type": "code",
   "execution_count": 100,
   "metadata": {},
   "outputs": [
    {
     "name": "stderr",
     "output_type": "stream",
     "text": [
      "C:\\Users\\User\\Anaconda3\\lib\\site-packages\\ipykernel_launcher.py:8: SettingWithCopyWarning: \n",
      "A value is trying to be set on a copy of a slice from a DataFrame\n",
      "\n",
      "See the caveats in the documentation: http://pandas.pydata.org/pandas-docs/stable/user_guide/indexing.html#returning-a-view-versus-a-copy\n",
      "  \n"
     ]
    }
   ],
   "source": [
    "df_aki_sp['Left_context_POS'] = ''\n",
    "\n",
    "for i, text in enumerate(df_aki_sp['Left context']):\n",
    "    try:\n",
    "        words = [word.strip(punctuation) for word in text.split() if word not in punctuation]\n",
    "        p = morph.parse(words[-1])[0]\n",
    "        tag_info = str(p.tag)[:4]\n",
    "        df_aki_sp['Left_context_POS'][i] = tag_info\n",
    "        \n",
    "    except:\n",
    "        continue"
   ]
  },
  {
   "cell_type": "code",
   "execution_count": 101,
   "metadata": {},
   "outputs": [],
   "source": [
    "df_aki_sp['Left_context_POS'].replace('', np.nan, inplace=True)\n",
    "#df_aki_sp['Left_context_POS'].fillna(np.nan, inplace=True)"
   ]
  },
  {
   "cell_type": "code",
   "execution_count": 102,
   "metadata": {},
   "outputs": [
    {
     "name": "stderr",
     "output_type": "stream",
     "text": [
      "C:\\Users\\User\\Anaconda3\\lib\\site-packages\\ipykernel_launcher.py:8: SettingWithCopyWarning: \n",
      "A value is trying to be set on a copy of a slice from a DataFrame\n",
      "\n",
      "See the caveats in the documentation: http://pandas.pydata.org/pandas-docs/stable/user_guide/indexing.html#returning-a-view-versus-a-copy\n",
      "  \n"
     ]
    }
   ],
   "source": [
    "df_aki_sp['Right_context_POS'] = ''\n",
    "\n",
    "for i, text in enumerate(df_aki_sp['Right context']):\n",
    "    try:\n",
    "        words = [word.strip(punctuation) for word in text.split() if word not in punctuation]\n",
    "        p = morph.parse(words[0])[0]\n",
    "        tag_info = str(p.tag)[:4]\n",
    "        df_aki_sp['Right_context_POS'][i] = tag_info\n",
    "\n",
    "        \n",
    "    except:\n",
    "        continue"
   ]
  },
  {
   "cell_type": "code",
   "execution_count": 103,
   "metadata": {},
   "outputs": [],
   "source": [
    "df_aki_sp['Right_context_POS'].replace('', np.nan, inplace=True)\n",
    "#df_aki_sp['Right_context_POS'].fillna(np.nan, inplace=True)"
   ]
  },
  {
   "cell_type": "code",
   "execution_count": 104,
   "metadata": {
    "scrolled": true
   },
   "outputs": [
    {
     "data": {
      "text/html": [
       "<div>\n",
       "<style scoped>\n",
       "    .dataframe tbody tr th:only-of-type {\n",
       "        vertical-align: middle;\n",
       "    }\n",
       "\n",
       "    .dataframe tbody tr th {\n",
       "        vertical-align: top;\n",
       "    }\n",
       "\n",
       "    .dataframe thead th {\n",
       "        text-align: right;\n",
       "    }\n",
       "</style>\n",
       "<table border=\"1\" class=\"dataframe\">\n",
       "  <thead>\n",
       "    <tr style=\"text-align: right;\">\n",
       "      <th></th>\n",
       "      <th>Left context</th>\n",
       "      <th>Center</th>\n",
       "      <th>Right context</th>\n",
       "      <th>Created</th>\n",
       "      <th>Sphere</th>\n",
       "      <th>Type</th>\n",
       "      <th>Full context</th>\n",
       "      <th>Left_context_POS</th>\n",
       "      <th>Right_context_POS</th>\n",
       "    </tr>\n",
       "  </thead>\n",
       "  <tbody>\n",
       "    <tr>\n",
       "      <td>0</td>\n",
       "      <td>А́нька же у на́с</td>\n",
       "      <td>аки</td>\n",
       "      <td>сло́н― споко́йная.</td>\n",
       "      <td>1987</td>\n",
       "      <td>кино, нехудожественная</td>\n",
       "      <td>кино историческое, кино приключенческое</td>\n",
       "      <td>А́нька же у на́с аки сло́н― споко́йная.   [Нин...</td>\n",
       "      <td>NOUN</td>\n",
       "      <td>NOUN</td>\n",
       "    </tr>\n",
       "    <tr>\n",
       "      <td>1</td>\n",
       "      <td>что прикры́в сра́м лица́ бородо́ю /</td>\n",
       "      <td>аки</td>\n",
       "      <td>го́лубь в свято́м неве́дении возноси́ла моли́твы.</td>\n",
       "      <td>1937</td>\n",
       "      <td>кино, нехудожественная</td>\n",
       "      <td>кино историческое, экранизация</td>\n",
       "      <td>Те́м и сильна́ была́ Росси́я / что прикры́в ср...</td>\n",
       "      <td>VERB</td>\n",
       "      <td>VERB</td>\n",
       "    </tr>\n",
       "    <tr>\n",
       "      <td>2</td>\n",
       "      <td>Виде́ния сказу́ют/</td>\n",
       "      <td>аки</td>\n",
       "      <td>бы шпио́нами к Бо́гу ходи́ли/ притво́рныя</td>\n",
       "      <td>1973</td>\n",
       "      <td>кино, нехудожественная</td>\n",
       "      <td>кинокомедия</td>\n",
       "      <td>Виде́ния сказу́ют/ аки бы шпио́нами к Бо́гу хо...</td>\n",
       "      <td>VERB</td>\n",
       "      <td>PRCL</td>\n",
       "    </tr>\n",
       "  </tbody>\n",
       "</table>\n",
       "</div>"
      ],
      "text/plain": [
       "                          Left context Center  \\\n",
       "0                     А́нька же у на́с   аки    \n",
       "1  что прикры́в сра́м лица́ бородо́ю /   аки    \n",
       "2                   Виде́ния сказу́ют/   аки    \n",
       "\n",
       "                                       Right context  Created  \\\n",
       "0                               сло́н― споко́йная.       1987   \n",
       "1  го́лубь в свято́м неве́дении возноси́ла моли́твы.     1937   \n",
       "2         бы шпио́нами к Бо́гу ходи́ли/ притво́рныя      1973   \n",
       "\n",
       "                   Sphere                                     Type  \\\n",
       "0  кино, нехудожественная  кино историческое, кино приключенческое   \n",
       "1  кино, нехудожественная           кино историческое, экранизация   \n",
       "2  кино, нехудожественная                              кинокомедия   \n",
       "\n",
       "                                        Full context Left_context_POS  \\\n",
       "0  А́нька же у на́с аки сло́н― споко́йная.   [Нин...             NOUN   \n",
       "1  Те́м и сильна́ была́ Росси́я / что прикры́в ср...             VERB   \n",
       "2  Виде́ния сказу́ют/ аки бы шпио́нами к Бо́гу хо...             VERB   \n",
       "\n",
       "  Right_context_POS  \n",
       "0              NOUN  \n",
       "1              VERB  \n",
       "2              PRCL  "
      ]
     },
     "execution_count": 104,
     "metadata": {},
     "output_type": "execute_result"
    }
   ],
   "source": [
    "df_aki_sp.head(3)"
   ]
  },
  {
   "cell_type": "code",
   "execution_count": 105,
   "metadata": {},
   "outputs": [],
   "source": [
    "df_aki_sp.to_csv(r'C:\\Users\\User\\Desktop\\r project\\datasets\\df_aki_sp.csv', encoding='utf-8', index = False)"
   ]
  },
  {
   "cell_type": "markdown",
   "metadata": {},
   "source": [
    "### словно"
   ]
  },
  {
   "cell_type": "code",
   "execution_count": 106,
   "metadata": {},
   "outputs": [],
   "source": [
    "df_slovno_sp = pd.read_excel('spoken_corpora_rand_slovno.xlsx')"
   ]
  },
  {
   "cell_type": "code",
   "execution_count": 107,
   "metadata": {},
   "outputs": [],
   "source": [
    "df_slovno_sp = df_slovno_sp.drop(['Reversed left context', 'Reversed center', 'Punct', 'Title', 'Author', 'Birthday', 'Header', 'Ambiguity', 'Medium', 'Topic', 'Publication', 'Publ_year'], axis=1)"
   ]
  },
  {
   "cell_type": "code",
   "execution_count": 108,
   "metadata": {},
   "outputs": [
    {
     "data": {
      "text/plain": [
       "(180, 7)"
      ]
     },
     "execution_count": 108,
     "metadata": {},
     "output_type": "execute_result"
    }
   ],
   "source": [
    "df_slovno_sp.shape"
   ]
  },
  {
   "cell_type": "code",
   "execution_count": 109,
   "metadata": {},
   "outputs": [],
   "source": [
    "df_slovno_sp['Left_context_POS'] = ''\n",
    "\n",
    "for i, text in enumerate(df_slovno_sp['Left context']):\n",
    "    try:\n",
    "        words = [word.strip(punctuation) for word in text.split() if word not in punctuation]\n",
    "        p = morph.parse(words[-1])[0]\n",
    "        tag_info = str(p.tag)[:4]\n",
    "        df_slovno_sp['Left_context_POS'][i] = tag_info\n",
    "        \n",
    "    except:\n",
    "        continue"
   ]
  },
  {
   "cell_type": "code",
   "execution_count": 110,
   "metadata": {},
   "outputs": [],
   "source": [
    "df_slovno_sp['Left_context_POS'].replace('', np.nan, inplace=True)\n",
    "#df_slovno_sp['Left_context_POS'].fillna(np.nan, inplace=True)"
   ]
  },
  {
   "cell_type": "code",
   "execution_count": 111,
   "metadata": {},
   "outputs": [],
   "source": [
    "df_slovno_sp['Right_context_POS'] = ''\n",
    "\n",
    "for i, text in enumerate(df_slovno_sp['Right context']):\n",
    "    try:\n",
    "        words = [word.strip(punctuation) for word in text.split() if word not in punctuation]\n",
    "        p = morph.parse(words[0])[0]\n",
    "        tag_info = str(p.tag)[:4]\n",
    "        df_slovno_sp['Right_context_POS'][i] = tag_info\n",
    "\n",
    "        \n",
    "    except:\n",
    "        continue"
   ]
  },
  {
   "cell_type": "code",
   "execution_count": 112,
   "metadata": {},
   "outputs": [],
   "source": [
    "df_slovno_sp['Right_context_POS'].replace('', np.nan, inplace=True)\n",
    "#df_slovno_sp['Right_context_POS'].fillna(np.nan, inplace=True)"
   ]
  },
  {
   "cell_type": "code",
   "execution_count": 113,
   "metadata": {},
   "outputs": [
    {
     "data": {
      "text/html": [
       "<div>\n",
       "<style scoped>\n",
       "    .dataframe tbody tr th:only-of-type {\n",
       "        vertical-align: middle;\n",
       "    }\n",
       "\n",
       "    .dataframe tbody tr th {\n",
       "        vertical-align: top;\n",
       "    }\n",
       "\n",
       "    .dataframe thead th {\n",
       "        text-align: right;\n",
       "    }\n",
       "</style>\n",
       "<table border=\"1\" class=\"dataframe\">\n",
       "  <thead>\n",
       "    <tr style=\"text-align: right;\">\n",
       "      <th></th>\n",
       "      <th>Left context</th>\n",
       "      <th>Center</th>\n",
       "      <th>Right context</th>\n",
       "      <th>Created</th>\n",
       "      <th>Sphere</th>\n",
       "      <th>Type</th>\n",
       "      <th>Full context</th>\n",
       "      <th>Left_context_POS</th>\n",
       "      <th>Right_context_POS</th>\n",
       "    </tr>\n",
       "  </thead>\n",
       "  <tbody>\n",
       "    <tr>\n",
       "      <td>0</td>\n",
       "      <td>Разры́вы</td>\n",
       "      <td>сло́вно</td>\n",
       "      <td>желе́зный ве́тер.</td>\n",
       "      <td>1973</td>\n",
       "      <td>кино, нехудожественная</td>\n",
       "      <td>кинокомедия, экранизация</td>\n",
       "      <td>Разры́вы сло́вно желе́зный ве́тер. [Алексей Ко...</td>\n",
       "      <td>NOUN</td>\n",
       "      <td>ADJF</td>\n",
       "    </tr>\n",
       "    <tr>\n",
       "      <td>1</td>\n",
       "      <td>NaN</td>\n",
       "      <td>Сло́вно</td>\n",
       "      <td>ди́кого быка́ / За рога́ беру́ уда́чу!</td>\n",
       "      <td>1973</td>\n",
       "      <td>кино, нехудожественная</td>\n",
       "      <td>кинодетектив, экранизация</td>\n",
       "      <td>Сло́вно ди́кого быка́ / За рога́ беру́ уда́чу!...</td>\n",
       "      <td>NaN</td>\n",
       "      <td>ADJF</td>\n",
       "    </tr>\n",
       "    <tr>\n",
       "      <td>2</td>\n",
       "      <td>То́лько бу́дут но́жики</td>\n",
       "      <td>сло́вно</td>\n",
       "      <td>ре́зать но́-жки́.</td>\n",
       "      <td>2006</td>\n",
       "      <td>кино, нехудожественная</td>\n",
       "      <td>кинокомедия, кинофарс</td>\n",
       "      <td>То́лько бу́дут но́жики сло́вно ре́зать но́-жки...</td>\n",
       "      <td>NOUN</td>\n",
       "      <td>INFN</td>\n",
       "    </tr>\n",
       "    <tr>\n",
       "      <td>3</td>\n",
       "      <td>Но э́того бы́ло доста́точно!</td>\n",
       "      <td>Сло́вно</td>\n",
       "      <td>уда́р мо́лнии!</td>\n",
       "      <td>1956</td>\n",
       "      <td>кино, нехудожественная</td>\n",
       "      <td>кинодрама, киномелодрама</td>\n",
       "      <td>Но э́того бы́ло доста́точно! Сло́вно уда́р мо́...</td>\n",
       "      <td>ADVB</td>\n",
       "      <td>NOUN</td>\n",
       "    </tr>\n",
       "    <tr>\n",
       "      <td>4</td>\n",
       "      <td>Ты́</td>\n",
       "      <td>сло́вно</td>\n",
       "      <td>с цепи́ сорва́лся!</td>\n",
       "      <td>1984</td>\n",
       "      <td>кино, нехудожественная</td>\n",
       "      <td>кино детское, кинокомедия, киномюзикл</td>\n",
       "      <td>Ты́ сло́вно с цепи́ сорва́лся!  [Владимир Ален...</td>\n",
       "      <td>UNKN</td>\n",
       "      <td>PREP</td>\n",
       "    </tr>\n",
       "    <tr>\n",
       "      <td>5</td>\n",
       "      <td>Мя́ч</td>\n",
       "      <td>сло́вно</td>\n",
       "      <td>прилипа́л к её раке́тке.</td>\n",
       "      <td>1981</td>\n",
       "      <td>кино, нехудожественная</td>\n",
       "      <td>кинодетектив, экранизация</td>\n",
       "      <td>Мя́ч сло́вно прилипа́л к её раке́тке. [Владими...</td>\n",
       "      <td>NOUN</td>\n",
       "      <td>VERB</td>\n",
       "    </tr>\n",
       "    <tr>\n",
       "      <td>6</td>\n",
       "      <td>окну́ и уви́дел / как ме́дленно /</td>\n",
       "      <td>сло́вно</td>\n",
       "      <td>не́хотя / вода́ начина́ет отступа́ть.</td>\n",
       "      <td>1997</td>\n",
       "      <td>кино, нехудожественная</td>\n",
       "      <td>кинокомедия</td>\n",
       "      <td>О́н подошёл к окну́ и уви́дел / как ме́дленно ...</td>\n",
       "      <td>ADJS</td>\n",
       "      <td>GRND</td>\n",
       "    </tr>\n",
       "    <tr>\n",
       "      <td>7</td>\n",
       "      <td>Ты́ ведёшь себя́ в па́рке /</td>\n",
       "      <td>сло́вно</td>\n",
       "      <td>ста́рший прика́зчик в колониа́льной ла́вке « Х...</td>\n",
       "      <td>1972</td>\n",
       "      <td>кино, нехудожественная</td>\n",
       "      <td>кинодрама, киноповесть</td>\n",
       "      <td>Ты́ ведёшь себя́ в па́рке / сло́вно ста́рший п...</td>\n",
       "      <td>NOUN</td>\n",
       "      <td>ADJF</td>\n",
       "    </tr>\n",
       "    <tr>\n",
       "      <td>8</td>\n",
       "      <td>Во́т и ле́то прошло́ /</td>\n",
       "      <td>Сло́вно</td>\n",
       "      <td>и не быва́ло.</td>\n",
       "      <td>1978</td>\n",
       "      <td>кино, нехудожественная</td>\n",
       "      <td>кинокомедия, киномюзикл, экранизация</td>\n",
       "      <td>Во́т и ле́то прошло́ / Сло́вно и не быва́ло. [...</td>\n",
       "      <td>UNKN</td>\n",
       "      <td>CONJ</td>\n",
       "    </tr>\n",
       "    <tr>\n",
       "      <td>9</td>\n",
       "      <td>Когда́ и́х приподни́мешь вдру́г / И /</td>\n",
       "      <td>сло́вно</td>\n",
       "      <td>мо́лнией небе́сной / Оки́нешь бе́гло це́лый кр...</td>\n",
       "      <td>1978</td>\n",
       "      <td>кино, нехудожественная</td>\n",
       "      <td>кинокомедия, киномюзикл, экранизация</td>\n",
       "      <td>Люблю́ глаза́ твои́ / мо́й дру́г / С игро́й и́...</td>\n",
       "      <td>CONJ</td>\n",
       "      <td>NOUN</td>\n",
       "    </tr>\n",
       "    <tr>\n",
       "      <td>10</td>\n",
       "      <td>Вои́стину / на́м Ва́с</td>\n",
       "      <td>сло́вно</td>\n",
       "      <td>Бо́г посла́л.</td>\n",
       "      <td>1993</td>\n",
       "      <td>кино, нехудожественная</td>\n",
       "      <td>кинокомедия</td>\n",
       "      <td>Вои́стину / на́м Ва́с сло́вно Бо́г посла́л.   ...</td>\n",
       "      <td>NOUN</td>\n",
       "      <td>NOUN</td>\n",
       "    </tr>\n",
       "    <tr>\n",
       "      <td>11</td>\n",
       "      <td>женихо́в И в деви́цах засиде́лась /</td>\n",
       "      <td>Сло́вно</td>\n",
       "      <td>тётушка Ине́с.</td>\n",
       "      <td>1967-1971</td>\n",
       "      <td>кино, нехудожественная</td>\n",
       "      <td>киносказка, мультфильм, экранизация</td>\n",
       "      <td>Отверга́ла женихо́в И в деви́цах засиде́лась /...</td>\n",
       "      <td>VERB</td>\n",
       "      <td>NOUN</td>\n",
       "    </tr>\n",
       "    <tr>\n",
       "      <td>12</td>\n",
       "      <td>ну ка́к ты её целу́ешь!</td>\n",
       "      <td>Сло́вно</td>\n",
       "      <td>ты́ бои́шься ско́мкать её оде́жду!</td>\n",
       "      <td>1964</td>\n",
       "      <td>кино, нехудожественная</td>\n",
       "      <td>кинодрама, стихотворная пьеса, экранизация</td>\n",
       "      <td>ну ка́к ты её целу́ешь! Сло́вно ты́ бои́шься с...</td>\n",
       "      <td>VERB</td>\n",
       "      <td>UNKN</td>\n",
       "    </tr>\n",
       "    <tr>\n",
       "      <td>13</td>\n",
       "      <td>Иди́ сюда́…</td>\n",
       "      <td>Сло́вно</td>\n",
       "      <td>NaN</td>\n",
       "      <td>1964</td>\n",
       "      <td>кино, нехудожественная</td>\n",
       "      <td>кинодрама, стихотворная пьеса, экранизация</td>\n",
       "      <td>Иди́ сюда́… Сло́вно… [Борис Пастернак, Григори...</td>\n",
       "      <td>UNKN</td>\n",
       "      <td>NaN</td>\n",
       "    </tr>\n",
       "    <tr>\n",
       "      <td>14</td>\n",
       "      <td>Слу́шай!</td>\n",
       "      <td>Сло́вно</td>\n",
       "      <td>твои́ ко́сти та́ют от прикоснове́ния!</td>\n",
       "      <td>1964</td>\n",
       "      <td>кино, нехудожественная</td>\n",
       "      <td>кинодрама, стихотворная пьеса, экранизация</td>\n",
       "      <td>Слу́шай! Сло́вно твои́ ко́сти та́ют от прикосн...</td>\n",
       "      <td>VERB</td>\n",
       "      <td>UNKN</td>\n",
       "    </tr>\n",
       "    <tr>\n",
       "      <td>15</td>\n",
       "      <td>NaN</td>\n",
       "      <td>Сло́вно</td>\n",
       "      <td>NaN</td>\n",
       "      <td>1964</td>\n",
       "      <td>кино, нехудожественная</td>\n",
       "      <td>кинодрама, стихотворная пьеса, экранизация</td>\n",
       "      <td>Сло́вно… [Борис Пастернак, Григорий Козинцев, ...</td>\n",
       "      <td>NaN</td>\n",
       "      <td>NaN</td>\n",
       "    </tr>\n",
       "    <tr>\n",
       "      <td>16</td>\n",
       "      <td>Слу́шай!</td>\n",
       "      <td>Сло́вно</td>\n",
       "      <td>твои́ ко́сти та́ют от прикоснове́ния!</td>\n",
       "      <td>1964</td>\n",
       "      <td>кино, нехудожественная</td>\n",
       "      <td>кинодрама, стихотворная пьеса, экранизация</td>\n",
       "      <td>Слу́шай! Сло́вно твои́ ко́сти та́ют от прикосн...</td>\n",
       "      <td>VERB</td>\n",
       "      <td>UNKN</td>\n",
       "    </tr>\n",
       "    <tr>\n",
       "      <td>17</td>\n",
       "      <td>Еди́м чёрт зна́ет что́ / пьём</td>\n",
       "      <td>сло́вно</td>\n",
       "      <td>зве́ри из ручья́!</td>\n",
       "      <td>1989</td>\n",
       "      <td>кино, нехудожественная</td>\n",
       "      <td>кинокомедия, киномюзикл, экранизация</td>\n",
       "      <td>Еди́м чёрт зна́ет что́ / пьём сло́вно зве́ри и...</td>\n",
       "      <td>VERB</td>\n",
       "      <td>VERB</td>\n",
       "    </tr>\n",
       "    <tr>\n",
       "      <td>18</td>\n",
       "      <td>Она́ провиса́ла /</td>\n",
       "      <td>сло́вно</td>\n",
       "      <td>сло́вно рези́нка / проде́рнутая в неё / ло́пн...</td>\n",
       "      <td>1978</td>\n",
       "      <td>кино, нехудожественная</td>\n",
       "      <td>кинодрама</td>\n",
       "      <td>Она́ провиса́ла / сло́вно… сло́вно рези́нка / ...</td>\n",
       "      <td>VERB</td>\n",
       "      <td>ADJS</td>\n",
       "    </tr>\n",
       "    <tr>\n",
       "      <td>19</td>\n",
       "      <td>и о́ба / возвыша́ются над ни́м</td>\n",
       "      <td>сло́вно</td>\n",
       "      <td>два́ сугро́ба.</td>\n",
       "      <td>1980</td>\n",
       "      <td>кино, нехудожественная</td>\n",
       "      <td>киномелодрама, киноповесть</td>\n",
       "      <td>У верблю́да два́ горба́, два́ горба́ и о́ба / ...</td>\n",
       "      <td>NOUN</td>\n",
       "      <td>UNKN</td>\n",
       "    </tr>\n",
       "  </tbody>\n",
       "</table>\n",
       "</div>"
      ],
      "text/plain": [
       "                             Left context     Center  \\\n",
       "0                                Разры́вы   сло́вно    \n",
       "1                                     NaN   Сло́вно    \n",
       "2                  То́лько бу́дут но́жики   сло́вно    \n",
       "3            Но э́того бы́ло доста́точно!   Сло́вно    \n",
       "4                                     Ты́   сло́вно    \n",
       "5                                    Мя́ч   сло́вно    \n",
       "6       окну́ и уви́дел / как ме́дленно /   сло́вно    \n",
       "7             Ты́ ведёшь себя́ в па́рке /   сло́вно    \n",
       "8                  Во́т и ле́то прошло́ /   Сло́вно    \n",
       "9   Когда́ и́х приподни́мешь вдру́г / И /   сло́вно    \n",
       "10                  Вои́стину / на́м Ва́с   сло́вно    \n",
       "11    женихо́в И в деви́цах засиде́лась /   Сло́вно    \n",
       "12                ну ка́к ты её целу́ешь!   Сло́вно    \n",
       "13                            Иди́ сюда́…   Сло́вно    \n",
       "14                               Слу́шай!   Сло́вно    \n",
       "15                                    NaN   Сло́вно    \n",
       "16                               Слу́шай!   Сло́вно    \n",
       "17          Еди́м чёрт зна́ет что́ / пьём   сло́вно    \n",
       "18                      Она́ провиса́ла /   сло́вно    \n",
       "19         и о́ба / возвыша́ются над ни́м   сло́вно    \n",
       "\n",
       "                                        Right context    Created  \\\n",
       "0                                   желе́зный ве́тер.       1973   \n",
       "1             ди́кого быка́ / За рога́ беру́ уда́чу!        1973   \n",
       "2                                   ре́зать но́-жки́.       2006   \n",
       "3                                     уда́р мо́лнии!        1956   \n",
       "4                                 с цепи́ сорва́лся!        1984   \n",
       "5                            прилипа́л к её раке́тке.       1981   \n",
       "6               не́хотя / вода́ начина́ет отступа́ть.       1997   \n",
       "7   ста́рший прика́зчик в колониа́льной ла́вке « Х...       1972   \n",
       "8                                       и не быва́ло.       1978   \n",
       "9   мо́лнией небе́сной / Оки́нешь бе́гло це́лый кр...       1978   \n",
       "10                                    Бо́г посла́л.         1993   \n",
       "11                                   тётушка Ине́с.    1967-1971   \n",
       "12                ты́ бои́шься ско́мкать её оде́жду!        1964   \n",
       "13                                                NaN       1964   \n",
       "14             твои́ ко́сти та́ют от прикоснове́ния!        1964   \n",
       "15                                                NaN       1964   \n",
       "16             твои́ ко́сти та́ют от прикоснове́ния!        1964   \n",
       "17                                 зве́ри из ручья́!        1989   \n",
       "18   сло́вно рези́нка / проде́рнутая в неё / ло́пн...       1978   \n",
       "19                                   два́ сугро́ба.         1980   \n",
       "\n",
       "                    Sphere                                        Type  \\\n",
       "0   кино, нехудожественная                    кинокомедия, экранизация   \n",
       "1   кино, нехудожественная                   кинодетектив, экранизация   \n",
       "2   кино, нехудожественная                       кинокомедия, кинофарс   \n",
       "3   кино, нехудожественная                    кинодрама, киномелодрама   \n",
       "4   кино, нехудожественная       кино детское, кинокомедия, киномюзикл   \n",
       "5   кино, нехудожественная                   кинодетектив, экранизация   \n",
       "6   кино, нехудожественная                                 кинокомедия   \n",
       "7   кино, нехудожественная                      кинодрама, киноповесть   \n",
       "8   кино, нехудожественная        кинокомедия, киномюзикл, экранизация   \n",
       "9   кино, нехудожественная        кинокомедия, киномюзикл, экранизация   \n",
       "10  кино, нехудожественная                                 кинокомедия   \n",
       "11  кино, нехудожественная         киносказка, мультфильм, экранизация   \n",
       "12  кино, нехудожественная  кинодрама, стихотворная пьеса, экранизация   \n",
       "13  кино, нехудожественная  кинодрама, стихотворная пьеса, экранизация   \n",
       "14  кино, нехудожественная  кинодрама, стихотворная пьеса, экранизация   \n",
       "15  кино, нехудожественная  кинодрама, стихотворная пьеса, экранизация   \n",
       "16  кино, нехудожественная  кинодрама, стихотворная пьеса, экранизация   \n",
       "17  кино, нехудожественная        кинокомедия, киномюзикл, экранизация   \n",
       "18  кино, нехудожественная                                   кинодрама   \n",
       "19  кино, нехудожественная                  киномелодрама, киноповесть   \n",
       "\n",
       "                                         Full context Left_context_POS  \\\n",
       "0   Разры́вы сло́вно желе́зный ве́тер. [Алексей Ко...             NOUN   \n",
       "1   Сло́вно ди́кого быка́ / За рога́ беру́ уда́чу!...              NaN   \n",
       "2   То́лько бу́дут но́жики сло́вно ре́зать но́-жки...             NOUN   \n",
       "3   Но э́того бы́ло доста́точно! Сло́вно уда́р мо́...             ADVB   \n",
       "4   Ты́ сло́вно с цепи́ сорва́лся!  [Владимир Ален...             UNKN   \n",
       "5   Мя́ч сло́вно прилипа́л к её раке́тке. [Владими...             NOUN   \n",
       "6   О́н подошёл к окну́ и уви́дел / как ме́дленно ...             ADJS   \n",
       "7   Ты́ ведёшь себя́ в па́рке / сло́вно ста́рший п...             NOUN   \n",
       "8   Во́т и ле́то прошло́ / Сло́вно и не быва́ло. [...             UNKN   \n",
       "9   Люблю́ глаза́ твои́ / мо́й дру́г / С игро́й и́...             CONJ   \n",
       "10  Вои́стину / на́м Ва́с сло́вно Бо́г посла́л.   ...             NOUN   \n",
       "11  Отверга́ла женихо́в И в деви́цах засиде́лась /...             VERB   \n",
       "12  ну ка́к ты её целу́ешь! Сло́вно ты́ бои́шься с...             VERB   \n",
       "13  Иди́ сюда́… Сло́вно… [Борис Пастернак, Григори...             UNKN   \n",
       "14  Слу́шай! Сло́вно твои́ ко́сти та́ют от прикосн...             VERB   \n",
       "15  Сло́вно… [Борис Пастернак, Григорий Козинцев, ...              NaN   \n",
       "16  Слу́шай! Сло́вно твои́ ко́сти та́ют от прикосн...             VERB   \n",
       "17  Еди́м чёрт зна́ет что́ / пьём сло́вно зве́ри и...             VERB   \n",
       "18  Она́ провиса́ла / сло́вно… сло́вно рези́нка / ...             VERB   \n",
       "19  У верблю́да два́ горба́, два́ горба́ и о́ба / ...             NOUN   \n",
       "\n",
       "   Right_context_POS  \n",
       "0               ADJF  \n",
       "1               ADJF  \n",
       "2               INFN  \n",
       "3               NOUN  \n",
       "4               PREP  \n",
       "5               VERB  \n",
       "6               GRND  \n",
       "7               ADJF  \n",
       "8               CONJ  \n",
       "9               NOUN  \n",
       "10              NOUN  \n",
       "11              NOUN  \n",
       "12              UNKN  \n",
       "13               NaN  \n",
       "14              UNKN  \n",
       "15               NaN  \n",
       "16              UNKN  \n",
       "17              VERB  \n",
       "18              ADJS  \n",
       "19              UNKN  "
      ]
     },
     "execution_count": 113,
     "metadata": {},
     "output_type": "execute_result"
    }
   ],
   "source": [
    "df_slovno_sp.head(20)"
   ]
  },
  {
   "cell_type": "code",
   "execution_count": 114,
   "metadata": {},
   "outputs": [],
   "source": [
    "df_slovno_sp.to_csv(r'C:\\Users\\User\\Desktop\\r project\\datasets\\df_slovno_sp.csv', encoding='utf-8', index = False)"
   ]
  },
  {
   "cell_type": "markdown",
   "metadata": {},
   "source": [
    "### будто"
   ]
  },
  {
   "cell_type": "code",
   "execution_count": 241,
   "metadata": {},
   "outputs": [],
   "source": [
    "df_budto_sp = pd.read_excel(path+'budto_spoken.xlsx')"
   ]
  },
  {
   "cell_type": "code",
   "execution_count": 242,
   "metadata": {},
   "outputs": [],
   "source": [
    "df_budto_sp = df_budto_sp.sample(500)\n",
    "df_budto_sp = df_budto_sp.reset_index(drop=True)"
   ]
  },
  {
   "cell_type": "code",
   "execution_count": 243,
   "metadata": {},
   "outputs": [],
   "source": [
    "df_budto_sp = df_budto_sp.drop(['Reversed left context', 'Reversed center', 'Punct', 'Title', 'Author', 'Birthday', 'Header', 'Ambiguity', 'Medium', 'Topic', 'Publication', 'Publ_year'], axis=1)"
   ]
  },
  {
   "cell_type": "code",
   "execution_count": 244,
   "metadata": {},
   "outputs": [
    {
     "data": {
      "text/plain": [
       "(500, 7)"
      ]
     },
     "execution_count": 244,
     "metadata": {},
     "output_type": "execute_result"
    }
   ],
   "source": [
    "df_budto_sp.shape"
   ]
  },
  {
   "cell_type": "code",
   "execution_count": 245,
   "metadata": {},
   "outputs": [],
   "source": [
    "df_budto_sp['Left_context_POS'] = ''\n",
    "\n",
    "for i, text in enumerate(df_budto_sp['Left context']):\n",
    "    try:\n",
    "        words = [word.strip(punctuation) for word in text.split() if word not in punctuation]\n",
    "        p = morph.parse(words[-1])[0]\n",
    "        tag_info = str(p.tag)[:4]\n",
    "        df_budto_sp['Left_context_POS'][i] = tag_info\n",
    "        \n",
    "    except:\n",
    "        continue"
   ]
  },
  {
   "cell_type": "code",
   "execution_count": 246,
   "metadata": {},
   "outputs": [],
   "source": [
    "df_budto_sp['Left_context_POS'].replace('', np.nan, inplace=True)\n",
    "#df_budto_sp['Left_context_POS'].fillna(np.nan, inplace=True)"
   ]
  },
  {
   "cell_type": "code",
   "execution_count": 247,
   "metadata": {},
   "outputs": [],
   "source": [
    "df_budto_sp['Right_context_POS'] = ''\n",
    "\n",
    "for i, text in enumerate(df_budto_sp['Right context']):\n",
    "    try:\n",
    "        words = [word.strip(punctuation) for word in text.split() if word not in punctuation]\n",
    "        p = morph.parse(words[0])[0]\n",
    "        tag_info = str(p.tag)[:4]\n",
    "        df_budto_sp['Right_context_POS'][i] = tag_info\n",
    "\n",
    "        \n",
    "    except:\n",
    "        continue"
   ]
  },
  {
   "cell_type": "code",
   "execution_count": 248,
   "metadata": {},
   "outputs": [],
   "source": [
    "df_budto_sp['Right_context_POS'].replace('', np.nan, inplace=True)\n",
    "#df_budto_sp['Right_context_POS'].fillna(np.nan, inplace=True)"
   ]
  },
  {
   "cell_type": "code",
   "execution_count": 249,
   "metadata": {},
   "outputs": [
    {
     "data": {
      "text/html": [
       "<div>\n",
       "<style scoped>\n",
       "    .dataframe tbody tr th:only-of-type {\n",
       "        vertical-align: middle;\n",
       "    }\n",
       "\n",
       "    .dataframe tbody tr th {\n",
       "        vertical-align: top;\n",
       "    }\n",
       "\n",
       "    .dataframe thead th {\n",
       "        text-align: right;\n",
       "    }\n",
       "</style>\n",
       "<table border=\"1\" class=\"dataframe\">\n",
       "  <thead>\n",
       "    <tr style=\"text-align: right;\">\n",
       "      <th></th>\n",
       "      <th>Left context</th>\n",
       "      <th>Center</th>\n",
       "      <th>Right context</th>\n",
       "      <th>Created</th>\n",
       "      <th>Sphere</th>\n",
       "      <th>Type</th>\n",
       "      <th>Full context</th>\n",
       "      <th>Left_context_POS</th>\n",
       "      <th>Right_context_POS</th>\n",
       "    </tr>\n",
       "  </thead>\n",
       "  <tbody>\n",
       "    <tr>\n",
       "      <th>0</th>\n",
       "      <td>Та́к / дава́й / дава́й / как</td>\n",
       "      <td>бу́дто</td>\n",
       "      <td>пры́гнул.</td>\n",
       "      <td>2006</td>\n",
       "      <td>кино</td>\n",
       "      <td>кинокомедия, кинофарс</td>\n",
       "      <td>Та́к / дава́й / дава́й / как бу́дто пры́гнул. ...</td>\n",
       "      <td>CONJ</td>\n",
       "      <td>VERB</td>\n",
       "    </tr>\n",
       "    <tr>\n",
       "      <th>1</th>\n",
       "      <td>У меня́ тако́е ощуще́ние /</td>\n",
       "      <td>бу́дто</td>\n",
       "      <td>мне́ вы́стрелили в живо́т.</td>\n",
       "      <td>1949</td>\n",
       "      <td>кино</td>\n",
       "      <td>кино военное, кинодетектив</td>\n",
       "      <td>У меня́ тако́е ощуще́ние / бу́дто мне́ вы́стре...</td>\n",
       "      <td>NOUN</td>\n",
       "      <td>UNKN</td>\n",
       "    </tr>\n",
       "    <tr>\n",
       "      <th>2</th>\n",
       "      <td>Матве́евна / что явля́етесь Вы́ мне́ /</td>\n",
       "      <td>бу́дто</td>\n",
       "      <td>чи́стая ле́бедь / бу́дто плывёте себе́ / куда́</td>\n",
       "      <td>1970</td>\n",
       "      <td>устная публичная речь</td>\n",
       "      <td>беседа</td>\n",
       "      <td>А ещё скажу́ Ва́м / разлюбе́зная Катери́на Мат...</td>\n",
       "      <td>UNKN</td>\n",
       "      <td>NOUN</td>\n",
       "    </tr>\n",
       "    <tr>\n",
       "      <th>3</th>\n",
       "      <td>О́н ещё как</td>\n",
       "      <td>бу́дто</td>\n",
       "      <td>бы са́м больно́й.</td>\n",
       "      <td>2003</td>\n",
       "      <td>кино</td>\n",
       "      <td>кинодрама, экранизация</td>\n",
       "      <td>О́н ещё как бу́дто бы са́м больно́й. [Владимир...</td>\n",
       "      <td>CONJ</td>\n",
       "      <td>PRCL</td>\n",
       "    </tr>\n",
       "    <tr>\n",
       "      <th>4</th>\n",
       "      <td>Как</td>\n",
       "      <td>бу́дто</td>\n",
       "      <td>заснёшь.</td>\n",
       "      <td>1974</td>\n",
       "      <td>устная непубличная речь</td>\n",
       "      <td>беседа</td>\n",
       "      <td>Как бу́дто заснёшь. [В.Д.Дувакин, В.Е.Ардов. Б...</td>\n",
       "      <td>CONJ</td>\n",
       "      <td>VERB</td>\n",
       "    </tr>\n",
       "    <tr>\n",
       "      <th>5</th>\n",
       "      <td>Лега́вые визжа́ли как щенки́ /</td>\n",
       "      <td>бу́дто</td>\n",
       "      <td>чего́-то боя́лись / и проси́лись в це́рковь.</td>\n",
       "      <td>2005</td>\n",
       "      <td>кино</td>\n",
       "      <td>кинодрама, экранизация</td>\n",
       "      <td>Лега́вые визжа́ли как щенки́ / бу́дто чего́-то...</td>\n",
       "      <td>UNKN</td>\n",
       "      <td>UNKN</td>\n",
       "    </tr>\n",
       "    <tr>\n",
       "      <th>6</th>\n",
       "      <td>о́чень ча́сто ви́жу во сне́ /</td>\n",
       "      <td>бу́дто</td>\n",
       "      <td>па́даю с ба́шни.</td>\n",
       "      <td>1957</td>\n",
       "      <td>кино</td>\n",
       "      <td>кинодрама, киномелодрама, экранизация</td>\n",
       "      <td>Я́ о́чень ча́сто ви́жу во сне́ / бу́дто па́даю...</td>\n",
       "      <td>UNKN</td>\n",
       "      <td>VERB</td>\n",
       "    </tr>\n",
       "    <tr>\n",
       "      <th>7</th>\n",
       "      <td>Я́ как</td>\n",
       "      <td>бу́дто</td>\n",
       "      <td>ва́с где́-то ви́дела.</td>\n",
       "      <td>2003</td>\n",
       "      <td>кино</td>\n",
       "      <td>кинодрама, экранизация</td>\n",
       "      <td>Я́ как бу́дто ва́с где́-то ви́дела. [Владимир ...</td>\n",
       "      <td>CONJ</td>\n",
       "      <td>NOUN</td>\n",
       "    </tr>\n",
       "    <tr>\n",
       "      <th>8</th>\n",
       "      <td>о́н ка́к-то бы уже́ как</td>\n",
       "      <td>бу́дто</td>\n",
       "      <td>и жда́л э́того всего́.</td>\n",
       "      <td>2007</td>\n",
       "      <td>кино</td>\n",
       "      <td>кинодрама</td>\n",
       "      <td>А ма́льчик мо́й / о́н ка́к-то бы уже́ как бу́д...</td>\n",
       "      <td>CONJ</td>\n",
       "      <td>CONJ</td>\n",
       "    </tr>\n",
       "    <tr>\n",
       "      <th>9</th>\n",
       "      <td>Но вот э́ти как</td>\n",
       "      <td>бу́дто</td>\n",
       "      <td>бы сде́ланы или со́браны сами́м Полика́рпом.</td>\n",
       "      <td>1974</td>\n",
       "      <td>кино</td>\n",
       "      <td>кино детское, кино приключенческое, кинодетект...</td>\n",
       "      <td>Но вот э́ти как бу́дто бы сде́ланы или со́бран...</td>\n",
       "      <td>CONJ</td>\n",
       "      <td>PRCL</td>\n",
       "    </tr>\n",
       "    <tr>\n",
       "      <th>10</th>\n",
       "      <td>Как</td>\n",
       "      <td>бу́дто</td>\n",
       "      <td>ничего́.</td>\n",
       "      <td>1968</td>\n",
       "      <td>кино</td>\n",
       "      <td>кинодетектив, экранизация</td>\n",
       "      <td>Как бу́дто ничего́.   [Вадим Кожевников, Влади...</td>\n",
       "      <td>CONJ</td>\n",
       "      <td>UNKN</td>\n",
       "    </tr>\n",
       "    <tr>\n",
       "      <th>11</th>\n",
       "      <td>Как</td>\n",
       "      <td>бу́дто</td>\n",
       "      <td>сговори́лись.</td>\n",
       "      <td>2002</td>\n",
       "      <td>кино</td>\n",
       "      <td>кинокомедия, экранизация</td>\n",
       "      <td>Как бу́дто сговори́лись.   [Деймон Ранион, Дми...</td>\n",
       "      <td>CONJ</td>\n",
       "      <td>VERB</td>\n",
       "    </tr>\n",
       "    <tr>\n",
       "      <th>12</th>\n",
       "      <td>Конту́зило</td>\n",
       "      <td>бу́дто</td>\n",
       "      <td>NaN</td>\n",
       "      <td>1971</td>\n",
       "      <td>кино</td>\n",
       "      <td>кино музыкальное, кинодрама, кинокомедия, кино...</td>\n",
       "      <td>Конту́зило бу́дто. [Абрам Народицкий, Аркадий ...</td>\n",
       "      <td>VERB</td>\n",
       "      <td>NaN</td>\n",
       "    </tr>\n",
       "    <tr>\n",
       "      <th>13</th>\n",
       "      <td>сожале́нию/ действи́тельно журнали́стика/ она́...</td>\n",
       "      <td>бу́дто</td>\n",
       "      <td>така́я/ зна́ете/ принципиа́льно непрофессиона́...</td>\n",
       "      <td>2012</td>\n",
       "      <td>устная непубличная речь</td>\n",
       "      <td>беседа</td>\n",
       "      <td>Но э́то/ к сожале́нию/ действи́тельно журнали́...</td>\n",
       "      <td>CONJ</td>\n",
       "      <td>GRND</td>\n",
       "    </tr>\n",
       "    <tr>\n",
       "      <th>14</th>\n",
       "      <td>Мы́ во́т как</td>\n",
       "      <td>бу́дто</td>\n",
       "      <td>бы чужи́е / а я́ то́чно бли́зкого</td>\n",
       "      <td>1957</td>\n",
       "      <td>кино</td>\n",
       "      <td>кинодрама, киномелодрама</td>\n",
       "      <td>Мы́ во́т как бу́дто бы чужи́е / а я́ то́чно бл...</td>\n",
       "      <td>CONJ</td>\n",
       "      <td>PRCL</td>\n",
       "    </tr>\n",
       "    <tr>\n",
       "      <th>15</th>\n",
       "      <td>Чу́ть-чу́ть порха́ет / и как</td>\n",
       "      <td>бу́дто</td>\n",
       "      <td>бы укра́дкой / слу́х людско́й едва́ ласка́ет.</td>\n",
       "      <td>1969</td>\n",
       "      <td>кино</td>\n",
       "      <td>кино приключенческое, кинодетектив</td>\n",
       "      <td>Чу́ть-чу́ть порха́ет / и как бу́дто бы укра́дк...</td>\n",
       "      <td>CONJ</td>\n",
       "      <td>PRCL</td>\n",
       "    </tr>\n",
       "    <tr>\n",
       "      <th>16</th>\n",
       "      <td>видела / который производил впечатление / как</td>\n",
       "      <td>будто</td>\n",
       "      <td>отсеченная голова / которая приставлена к этому</td>\n",
       "      <td>1973</td>\n",
       "      <td>устная публичная речь</td>\n",
       "      <td>беседа</td>\n",
       "      <td>Памятник / который я однажды видела / который ...</td>\n",
       "      <td>CONJ</td>\n",
       "      <td>PRTF</td>\n",
       "    </tr>\n",
       "    <tr>\n",
       "      <th>17</th>\n",
       "      <td>не нра́вилось/ а ту́т как</td>\n",
       "      <td>бу́дто</td>\n",
       "      <td>така́я литерату́ра така́я бо́лее пролета́рская у</td>\n",
       "      <td>1968</td>\n",
       "      <td>кино</td>\n",
       "      <td>кино приключенческое</td>\n",
       "      <td>Не́т/ я́ не обложи́л/ я́ о́чень отнёсся к нему...</td>\n",
       "      <td>CONJ</td>\n",
       "      <td>GRND</td>\n",
       "    </tr>\n",
       "    <tr>\n",
       "      <th>18</th>\n",
       "      <td>которую / тогда ведь даже / как</td>\n",
       "      <td>будто</td>\n",
       "      <td>даже не на место.</td>\n",
       "      <td>1967</td>\n",
       "      <td>устная публичная речь</td>\n",
       "      <td>лекция</td>\n",
       "      <td>Вот я вам приведу еще одну цитату / в этом отн...</td>\n",
       "      <td>CONJ</td>\n",
       "      <td>PRCL</td>\n",
       "    </tr>\n",
       "    <tr>\n",
       "      <th>19</th>\n",
       "      <td>Как</td>\n",
       "      <td>бу́дто</td>\n",
       "      <td>бы о́н написа́л сцена́рий/ и во́т</td>\n",
       "      <td>2012</td>\n",
       "      <td>устная непубличная речь</td>\n",
       "      <td>беседа</td>\n",
       "      <td>Как бу́дто бы о́н написа́л сцена́рий/ и во́т п...</td>\n",
       "      <td>CONJ</td>\n",
       "      <td>PRCL</td>\n",
       "    </tr>\n",
       "  </tbody>\n",
       "</table>\n",
       "</div>"
      ],
      "text/plain": [
       "                                         Left context    Center  \\\n",
       "0                        Та́к / дава́й / дава́й / как   бу́дто    \n",
       "1                          У меня́ тако́е ощуще́ние /   бу́дто    \n",
       "2              Матве́евна / что явля́етесь Вы́ мне́ /   бу́дто    \n",
       "3                                         О́н ещё как   бу́дто    \n",
       "4                                                 Как   бу́дто    \n",
       "5                      Лега́вые визжа́ли как щенки́ /   бу́дто    \n",
       "6                       о́чень ча́сто ви́жу во сне́ /   бу́дто    \n",
       "7                                              Я́ как   бу́дто    \n",
       "8                             о́н ка́к-то бы уже́ как   бу́дто    \n",
       "9                                     Но вот э́ти как   бу́дто    \n",
       "10                                                Как   бу́дто    \n",
       "11                                                Как   бу́дто    \n",
       "12                                         Конту́зило   бу́дто    \n",
       "13  сожале́нию/ действи́тельно журнали́стика/ она́...   бу́дто    \n",
       "14                                       Мы́ во́т как   бу́дто    \n",
       "15                       Чу́ть-чу́ть порха́ет / и как   бу́дто    \n",
       "16      видела / который производил впечатление / как    будто    \n",
       "17                          не нра́вилось/ а ту́т как   бу́дто    \n",
       "18                    которую / тогда ведь даже / как    будто    \n",
       "19                                                Как   бу́дто    \n",
       "\n",
       "                                        Right context Created  \\\n",
       "0                                           пры́гнул.    2006   \n",
       "1                        мне́ вы́стрелили в живо́т.      1949   \n",
       "2     чи́стая ле́бедь / бу́дто плывёте себе́ / куда́     1970   \n",
       "3                                   бы са́м больно́й.    2003   \n",
       "4                                            заснёшь.    1974   \n",
       "5        чего́-то боя́лись / и проси́лись в це́рковь.    2005   \n",
       "6                                    па́даю с ба́шни.    1957   \n",
       "7                               ва́с где́-то ви́дела.    2003   \n",
       "8                              и жда́л э́того всего́.    2007   \n",
       "9      бы сде́ланы или со́браны сами́м Полика́рпом.      1974   \n",
       "10                                         ничего́.      1968   \n",
       "11                                    сговори́лись.      2002   \n",
       "12                                                NaN    1971   \n",
       "13  така́я/ зна́ете/ принципиа́льно непрофессиона́...    2012   \n",
       "14                 бы чужи́е / а я́ то́чно бли́зкого     1957   \n",
       "15    бы укра́дкой / слу́х людско́й едва́ ласка́ет.      1969   \n",
       "16   отсеченная голова / которая приставлена к этому     1973   \n",
       "17  така́я литерату́ра така́я бо́лее пролета́рская у     1968   \n",
       "18                                  даже не на место.    1967   \n",
       "19                 бы о́н написа́л сцена́рий/ и во́т     2012   \n",
       "\n",
       "                     Sphere  \\\n",
       "0                      кино   \n",
       "1                      кино   \n",
       "2     устная публичная речь   \n",
       "3                      кино   \n",
       "4   устная непубличная речь   \n",
       "5                      кино   \n",
       "6                      кино   \n",
       "7                      кино   \n",
       "8                      кино   \n",
       "9                      кино   \n",
       "10                     кино   \n",
       "11                     кино   \n",
       "12                     кино   \n",
       "13  устная непубличная речь   \n",
       "14                     кино   \n",
       "15                     кино   \n",
       "16    устная публичная речь   \n",
       "17                     кино   \n",
       "18    устная публичная речь   \n",
       "19  устная непубличная речь   \n",
       "\n",
       "                                                 Type  \\\n",
       "0                               кинокомедия, кинофарс   \n",
       "1                          кино военное, кинодетектив   \n",
       "2                                              беседа   \n",
       "3                              кинодрама, экранизация   \n",
       "4                                              беседа   \n",
       "5                              кинодрама, экранизация   \n",
       "6               кинодрама, киномелодрама, экранизация   \n",
       "7                              кинодрама, экранизация   \n",
       "8                                           кинодрама   \n",
       "9   кино детское, кино приключенческое, кинодетект...   \n",
       "10                          кинодетектив, экранизация   \n",
       "11                           кинокомедия, экранизация   \n",
       "12  кино музыкальное, кинодрама, кинокомедия, кино...   \n",
       "13                                             беседа   \n",
       "14                           кинодрама, киномелодрама   \n",
       "15                 кино приключенческое, кинодетектив   \n",
       "16                                             беседа   \n",
       "17                               кино приключенческое   \n",
       "18                                             лекция   \n",
       "19                                             беседа   \n",
       "\n",
       "                                         Full context Left_context_POS  \\\n",
       "0   Та́к / дава́й / дава́й / как бу́дто пры́гнул. ...             CONJ   \n",
       "1   У меня́ тако́е ощуще́ние / бу́дто мне́ вы́стре...             NOUN   \n",
       "2   А ещё скажу́ Ва́м / разлюбе́зная Катери́на Мат...             UNKN   \n",
       "3   О́н ещё как бу́дто бы са́м больно́й. [Владимир...             CONJ   \n",
       "4   Как бу́дто заснёшь. [В.Д.Дувакин, В.Е.Ардов. Б...             CONJ   \n",
       "5   Лега́вые визжа́ли как щенки́ / бу́дто чего́-то...             UNKN   \n",
       "6   Я́ о́чень ча́сто ви́жу во сне́ / бу́дто па́даю...             UNKN   \n",
       "7   Я́ как бу́дто ва́с где́-то ви́дела. [Владимир ...             CONJ   \n",
       "8   А ма́льчик мо́й / о́н ка́к-то бы уже́ как бу́д...             CONJ   \n",
       "9   Но вот э́ти как бу́дто бы сде́ланы или со́бран...             CONJ   \n",
       "10  Как бу́дто ничего́.   [Вадим Кожевников, Влади...             CONJ   \n",
       "11  Как бу́дто сговори́лись.   [Деймон Ранион, Дми...             CONJ   \n",
       "12  Конту́зило бу́дто. [Абрам Народицкий, Аркадий ...             VERB   \n",
       "13  Но э́то/ к сожале́нию/ действи́тельно журнали́...             CONJ   \n",
       "14  Мы́ во́т как бу́дто бы чужи́е / а я́ то́чно бл...             CONJ   \n",
       "15  Чу́ть-чу́ть порха́ет / и как бу́дто бы укра́дк...             CONJ   \n",
       "16  Памятник / который я однажды видела / который ...             CONJ   \n",
       "17  Не́т/ я́ не обложи́л/ я́ о́чень отнёсся к нему...             CONJ   \n",
       "18  Вот я вам приведу еще одну цитату / в этом отн...             CONJ   \n",
       "19  Как бу́дто бы о́н написа́л сцена́рий/ и во́т п...             CONJ   \n",
       "\n",
       "   Right_context_POS  \n",
       "0               VERB  \n",
       "1               UNKN  \n",
       "2               NOUN  \n",
       "3               PRCL  \n",
       "4               VERB  \n",
       "5               UNKN  \n",
       "6               VERB  \n",
       "7               NOUN  \n",
       "8               CONJ  \n",
       "9               PRCL  \n",
       "10              UNKN  \n",
       "11              VERB  \n",
       "12               NaN  \n",
       "13              GRND  \n",
       "14              PRCL  \n",
       "15              PRCL  \n",
       "16              PRTF  \n",
       "17              GRND  \n",
       "18              PRCL  \n",
       "19              PRCL  "
      ]
     },
     "execution_count": 249,
     "metadata": {},
     "output_type": "execute_result"
    }
   ],
   "source": [
    "df_budto_sp.head(20)"
   ]
  },
  {
   "cell_type": "code",
   "execution_count": 250,
   "metadata": {},
   "outputs": [],
   "source": [
    "df_budto_sp.to_csv(r'.\\csv datasets\\df_budto_sp.csv', encoding='utf-8', index = False)"
   ]
  }
 ],
 "metadata": {
  "kernelspec": {
   "display_name": "Python 3",
   "language": "python",
   "name": "python3"
  },
  "language_info": {
   "codemirror_mode": {
    "name": "ipython",
    "version": 3
   },
   "file_extension": ".py",
   "mimetype": "text/x-python",
   "name": "python",
   "nbconvert_exporter": "python",
   "pygments_lexer": "ipython3",
   "version": "3.7.6"
  }
 },
 "nbformat": 4,
 "nbformat_minor": 2
}
